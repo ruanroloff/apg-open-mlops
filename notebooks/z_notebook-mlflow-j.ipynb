{
 "cells": [
  {
   "cell_type": "code",
   "execution_count": 1,
   "id": "61b2f37e-61fd-4f9e-a522-3eb6066a6759",
   "metadata": {},
   "outputs": [
    {
     "name": "stdout",
     "output_type": "stream",
     "text": [
      "teste\n"
     ]
    }
   ],
   "source": [
    "print('teste')"
   ]
  },
  {
   "cell_type": "code",
   "execution_count": 28,
   "id": "d8d92fc8-0763-4de1-9467-7fddc31a148a",
   "metadata": {},
   "outputs": [],
   "source": [
    "base_dir = \"/ztemp/ml/processing\""
   ]
  },
  {
   "cell_type": "code",
   "execution_count": null,
   "id": "ad179e74-8106-4f2d-9d15-d4021ff933ff",
   "metadata": {},
   "outputs": [],
   "source": [
    "#mkdir -p /opt/ml/processing/validation/"
   ]
  },
  {
   "cell_type": "code",
   "execution_count": 9,
   "id": "5041a4f3-7c51-4a5a-8238-bead02cb079c",
   "metadata": {},
   "outputs": [
    {
     "name": "stdout",
     "output_type": "stream",
     "text": [
      "mkdir: cannot create directory ‘/opt/ml/processing’: Permission denied\n",
      "mkdir: cannot create directory ‘/opt/ml/processing’: Permission denied\n",
      "mkdir: cannot create directory ‘/opt/ml/processing’: Permission denied\n",
      "mkdir: cannot create directory ‘/opt/ml/processing’: Permission denied\n"
     ]
    }
   ],
   "source": [
    "#sudo mkdir -p /ztemp/\n",
    "#sudo mkdir -p /ztemp/ml/processing/train/\n",
    "#sudo mkdir -p /ztemp/ml/processing/validation/\n",
    "#sudo mkdir -p /ztemp/ml/processing/test/\n",
    "#sudo mkdir -p /ztemp/ml/processing/modeldata/\n",
    "#sudo chmod -R 777 /ztemp/"
   ]
  },
  {
   "cell_type": "code",
   "execution_count": null,
   "id": "b89d7efa-7269-498c-994d-bc87ef1473c4",
   "metadata": {},
   "outputs": [],
   "source": [
    "#!pip install mlflow==2.13.2 sagemaker-mlflow==0.1.0"
   ]
  },
  {
   "cell_type": "code",
   "execution_count": 86,
   "id": "a263cbdd-431f-4c5a-9c8b-9e8002362087",
   "metadata": {},
   "outputs": [],
   "source": [
    "import datetime"
   ]
  },
  {
   "cell_type": "code",
   "execution_count": 29,
   "id": "7285aea7-23ce-4ebf-9045-90ea20db9a6a",
   "metadata": {},
   "outputs": [],
   "source": [
    "import boto3\n",
    "import numpy as np\n",
    "import pandas as pd"
   ]
  },
  {
   "cell_type": "code",
   "execution_count": 124,
   "id": "431d96aa-415f-4273-8ceb-7dfd9f2c34b7",
   "metadata": {},
   "outputs": [],
   "source": [
    "import sagemaker"
   ]
  },
  {
   "cell_type": "code",
   "execution_count": 87,
   "id": "86d66af4-2762-4422-a4a5-9c01d8241a8c",
   "metadata": {},
   "outputs": [
    {
     "name": "stdout",
     "output_type": "stream",
     "text": [
      "2024-10-07-2315\n"
     ]
    }
   ],
   "source": [
    "datenow = datetime.datetime.now().strftime(\"%Y-%m-%d-%H%M\")\n",
    "print(datenow)"
   ]
  },
  {
   "cell_type": "code",
   "execution_count": 49,
   "id": "2cd3995d-397a-4ef7-9321-f9d89cb9ce0d",
   "metadata": {},
   "outputs": [],
   "source": [
    "s3 = boto3.resource(\"s3\")\n",
    "bucket = 'z-tmp-tfc'\n",
    "#key = f\"s3://{bucket}/data/modeldata/fulldataset.csv\"\n",
    "key = f\"data/modeldata/fulldataset.csv\"\n",
    "fn = f\"{base_dir}/modeldata/fulldataset.csv\""
   ]
  },
  {
   "cell_type": "code",
   "execution_count": 50,
   "id": "ae5c1cc3-116b-45cb-acd1-648b3a3c391b",
   "metadata": {},
   "outputs": [
    {
     "name": "stdout",
     "output_type": "stream",
     "text": [
      "data/modeldata/fulldataset.csv\n"
     ]
    }
   ],
   "source": [
    "print(key)"
   ]
  },
  {
   "cell_type": "code",
   "execution_count": 51,
   "id": "844298f0-5b8b-47ff-9f06-caae80c49923",
   "metadata": {},
   "outputs": [],
   "source": [
    "s3.Bucket(bucket).download_file(key, fn)"
   ]
  },
  {
   "cell_type": "code",
   "execution_count": 89,
   "id": "5b491858-9072-4daa-ab3e-b3dae5785015",
   "metadata": {},
   "outputs": [],
   "source": [
    "import mlflow\n",
    "\n",
    "from mlflow.models import infer_signature\n",
    "\n",
    "import pandas as pd\n",
    "from sklearn import datasets\n",
    "from sklearn.model_selection import train_test_split\n",
    "from sklearn.linear_model import LogisticRegression\n",
    "from sklearn.metrics import accuracy_score, precision_score, recall_score, f1_score\n"
   ]
  },
  {
   "cell_type": "code",
   "execution_count": 90,
   "id": "4f7ee351-007d-43dd-b80d-e9486fa9d98a",
   "metadata": {},
   "outputs": [],
   "source": [
    "from sklearn.preprocessing import StandardScaler\n"
   ]
  },
  {
   "cell_type": "code",
   "execution_count": 92,
   "id": "7d04b825-517f-4d85-8b09-d635b1c4d870",
   "metadata": {},
   "outputs": [
    {
     "name": "stderr",
     "output_type": "stream",
     "text": [
      "2024/10/07 23:19:35 INFO mlflow.tracking.fluent: Experiment with name 'tfc-exp-lr-heart2' does not exist. Creating a new experiment.\n"
     ]
    },
    {
     "data": {
      "text/plain": [
       "<Experiment: artifact_location='s3://my-unique-bucket-name-test-zzz/art/2', creation_time=1728343175072, experiment_id='2', last_update_time=1728343175072, lifecycle_stage='active', name='tfc-exp-lr-heart2', tags={}>"
      ]
     },
     "execution_count": 92,
     "metadata": {},
     "output_type": "execute_result"
    }
   ],
   "source": [
    "mlflow.set_tracking_uri('arn:aws:sagemaker:us-east-1:828238096174:mlflow-tracking-server/apg-mlflow-sage')\n",
    "mlflow.set_experiment(\"tfc-exp-lr-heart2\")"
   ]
  },
  {
   "cell_type": "code",
   "execution_count": 93,
   "id": "eec8b165-af83-40af-8eb2-bc473806592c",
   "metadata": {},
   "outputs": [],
   "source": [
    "# Load the Iris dataset\n",
    "#base_dir = \"/opt/ml/processing\"\n",
    "fn = f\"{base_dir}/modeldata/fulldataset.csv\"\n",
    "df = pd.read_csv(fn)\n",
    "#X, y = pd.read_csv(fn)\n",
    "#X = pd.read_csv(fn).drop('num_bins', axis=1)\n",
    "#print(df)\n",
    "X = df.drop('num_bins', axis=1)\n",
    "y = df.num_bins\n",
    "\n",
    "\n",
    "# Split the data into training and test sets\n",
    "X_train, X_test, y_train, y_test = train_test_split(X, y, test_size=0.2, random_state=42)"
   ]
  },
  {
   "cell_type": "code",
   "execution_count": 94,
   "id": "4c4154d4-c621-4cf6-82a7-59a8dbc62202",
   "metadata": {},
   "outputs": [],
   "source": [
    "#X_train, X_test, y_train, y_test = train_test_split(X, y, test_size=0.2, random_state=42)"
   ]
  },
  {
   "cell_type": "code",
   "execution_count": 95,
   "id": "81d805fd-9696-44c4-89d9-39bf7835eb2a",
   "metadata": {},
   "outputs": [],
   "source": [
    "st_x = StandardScaler()\n",
    "X_train = st_x.fit_transform(X_train)\n",
    "X_test = st_x.transform(X_test)"
   ]
  },
  {
   "cell_type": "code",
   "execution_count": 96,
   "id": "25ad063f-6f46-4975-b74a-a518511221f5",
   "metadata": {},
   "outputs": [
    {
     "name": "stdout",
     "output_type": "stream",
     "text": [
      "X_train dimension=  (733, 14)\n",
      "X_test dimension=  (184, 14)\n",
      "y_train dimension=  (733,)\n",
      "y_train dimension=  (184,)\n"
     ]
    }
   ],
   "source": [
    "print('X_train dimension= ', X_train.shape)\n",
    "print('X_test dimension= ', X_test.shape)\n",
    "print('y_train dimension= ', y_train.shape)\n",
    "print('y_train dimension= ', y_test.shape)"
   ]
  },
  {
   "cell_type": "code",
   "execution_count": 97,
   "id": "380dbce2-943c-4944-b48b-7ee369310c73",
   "metadata": {},
   "outputs": [
    {
     "name": "stdout",
     "output_type": "stream",
     "text": [
      "[[-1.13501564  0.52419711 -1.07714551 ...  1.13407085  0.71880339\n",
      "  -0.65550334]\n",
      " [ 1.21245931  0.52419711  1.60839075 ... -0.53851252  0.71880339\n",
      "   0.93550311]\n",
      " [-2.62886334  0.52419711 -0.18196676 ...  1.13407085 -0.61170894\n",
      "  -0.65550334]\n",
      " ...\n",
      " [ 1.42586613  0.52419711 -1.07714551 ... -0.53851252 -0.61170894\n",
      "  -0.65550334]\n",
      " [ 1.95938316  0.52419711  1.60839075 ... -0.53851252  0.71880339\n",
      "   0.93550311]\n",
      " [-1.77523608 -1.90767935 -0.18196676 ...  1.13407085 -0.61170894\n",
      "  -0.65550334]]\n"
     ]
    }
   ],
   "source": [
    "print(X_train)"
   ]
  },
  {
   "cell_type": "code",
   "execution_count": 98,
   "id": "487f6f95-0519-4dd8-92c8-fec9c71c7a91",
   "metadata": {},
   "outputs": [
    {
     "data": {
      "text/html": [
       "<style>#sk-container-id-9 {\n",
       "  /* Definition of color scheme common for light and dark mode */\n",
       "  --sklearn-color-text: black;\n",
       "  --sklearn-color-line: gray;\n",
       "  /* Definition of color scheme for unfitted estimators */\n",
       "  --sklearn-color-unfitted-level-0: #fff5e6;\n",
       "  --sklearn-color-unfitted-level-1: #f6e4d2;\n",
       "  --sklearn-color-unfitted-level-2: #ffe0b3;\n",
       "  --sklearn-color-unfitted-level-3: chocolate;\n",
       "  /* Definition of color scheme for fitted estimators */\n",
       "  --sklearn-color-fitted-level-0: #f0f8ff;\n",
       "  --sklearn-color-fitted-level-1: #d4ebff;\n",
       "  --sklearn-color-fitted-level-2: #b3dbfd;\n",
       "  --sklearn-color-fitted-level-3: cornflowerblue;\n",
       "\n",
       "  /* Specific color for light theme */\n",
       "  --sklearn-color-text-on-default-background: var(--sg-text-color, var(--theme-code-foreground, var(--jp-content-font-color1, black)));\n",
       "  --sklearn-color-background: var(--sg-background-color, var(--theme-background, var(--jp-layout-color0, white)));\n",
       "  --sklearn-color-border-box: var(--sg-text-color, var(--theme-code-foreground, var(--jp-content-font-color1, black)));\n",
       "  --sklearn-color-icon: #696969;\n",
       "\n",
       "  @media (prefers-color-scheme: dark) {\n",
       "    /* Redefinition of color scheme for dark theme */\n",
       "    --sklearn-color-text-on-default-background: var(--sg-text-color, var(--theme-code-foreground, var(--jp-content-font-color1, white)));\n",
       "    --sklearn-color-background: var(--sg-background-color, var(--theme-background, var(--jp-layout-color0, #111)));\n",
       "    --sklearn-color-border-box: var(--sg-text-color, var(--theme-code-foreground, var(--jp-content-font-color1, white)));\n",
       "    --sklearn-color-icon: #878787;\n",
       "  }\n",
       "}\n",
       "\n",
       "#sk-container-id-9 {\n",
       "  color: var(--sklearn-color-text);\n",
       "}\n",
       "\n",
       "#sk-container-id-9 pre {\n",
       "  padding: 0;\n",
       "}\n",
       "\n",
       "#sk-container-id-9 input.sk-hidden--visually {\n",
       "  border: 0;\n",
       "  clip: rect(1px 1px 1px 1px);\n",
       "  clip: rect(1px, 1px, 1px, 1px);\n",
       "  height: 1px;\n",
       "  margin: -1px;\n",
       "  overflow: hidden;\n",
       "  padding: 0;\n",
       "  position: absolute;\n",
       "  width: 1px;\n",
       "}\n",
       "\n",
       "#sk-container-id-9 div.sk-dashed-wrapped {\n",
       "  border: 1px dashed var(--sklearn-color-line);\n",
       "  margin: 0 0.4em 0.5em 0.4em;\n",
       "  box-sizing: border-box;\n",
       "  padding-bottom: 0.4em;\n",
       "  background-color: var(--sklearn-color-background);\n",
       "}\n",
       "\n",
       "#sk-container-id-9 div.sk-container {\n",
       "  /* jupyter's `normalize.less` sets `[hidden] { display: none; }`\n",
       "     but bootstrap.min.css set `[hidden] { display: none !important; }`\n",
       "     so we also need the `!important` here to be able to override the\n",
       "     default hidden behavior on the sphinx rendered scikit-learn.org.\n",
       "     See: https://github.com/scikit-learn/scikit-learn/issues/21755 */\n",
       "  display: inline-block !important;\n",
       "  position: relative;\n",
       "}\n",
       "\n",
       "#sk-container-id-9 div.sk-text-repr-fallback {\n",
       "  display: none;\n",
       "}\n",
       "\n",
       "div.sk-parallel-item,\n",
       "div.sk-serial,\n",
       "div.sk-item {\n",
       "  /* draw centered vertical line to link estimators */\n",
       "  background-image: linear-gradient(var(--sklearn-color-text-on-default-background), var(--sklearn-color-text-on-default-background));\n",
       "  background-size: 2px 100%;\n",
       "  background-repeat: no-repeat;\n",
       "  background-position: center center;\n",
       "}\n",
       "\n",
       "/* Parallel-specific style estimator block */\n",
       "\n",
       "#sk-container-id-9 div.sk-parallel-item::after {\n",
       "  content: \"\";\n",
       "  width: 100%;\n",
       "  border-bottom: 2px solid var(--sklearn-color-text-on-default-background);\n",
       "  flex-grow: 1;\n",
       "}\n",
       "\n",
       "#sk-container-id-9 div.sk-parallel {\n",
       "  display: flex;\n",
       "  align-items: stretch;\n",
       "  justify-content: center;\n",
       "  background-color: var(--sklearn-color-background);\n",
       "  position: relative;\n",
       "}\n",
       "\n",
       "#sk-container-id-9 div.sk-parallel-item {\n",
       "  display: flex;\n",
       "  flex-direction: column;\n",
       "}\n",
       "\n",
       "#sk-container-id-9 div.sk-parallel-item:first-child::after {\n",
       "  align-self: flex-end;\n",
       "  width: 50%;\n",
       "}\n",
       "\n",
       "#sk-container-id-9 div.sk-parallel-item:last-child::after {\n",
       "  align-self: flex-start;\n",
       "  width: 50%;\n",
       "}\n",
       "\n",
       "#sk-container-id-9 div.sk-parallel-item:only-child::after {\n",
       "  width: 0;\n",
       "}\n",
       "\n",
       "/* Serial-specific style estimator block */\n",
       "\n",
       "#sk-container-id-9 div.sk-serial {\n",
       "  display: flex;\n",
       "  flex-direction: column;\n",
       "  align-items: center;\n",
       "  background-color: var(--sklearn-color-background);\n",
       "  padding-right: 1em;\n",
       "  padding-left: 1em;\n",
       "}\n",
       "\n",
       "\n",
       "/* Toggleable style: style used for estimator/Pipeline/ColumnTransformer box that is\n",
       "clickable and can be expanded/collapsed.\n",
       "- Pipeline and ColumnTransformer use this feature and define the default style\n",
       "- Estimators will overwrite some part of the style using the `sk-estimator` class\n",
       "*/\n",
       "\n",
       "/* Pipeline and ColumnTransformer style (default) */\n",
       "\n",
       "#sk-container-id-9 div.sk-toggleable {\n",
       "  /* Default theme specific background. It is overwritten whether we have a\n",
       "  specific estimator or a Pipeline/ColumnTransformer */\n",
       "  background-color: var(--sklearn-color-background);\n",
       "}\n",
       "\n",
       "/* Toggleable label */\n",
       "#sk-container-id-9 label.sk-toggleable__label {\n",
       "  cursor: pointer;\n",
       "  display: block;\n",
       "  width: 100%;\n",
       "  margin-bottom: 0;\n",
       "  padding: 0.5em;\n",
       "  box-sizing: border-box;\n",
       "  text-align: center;\n",
       "}\n",
       "\n",
       "#sk-container-id-9 label.sk-toggleable__label-arrow:before {\n",
       "  /* Arrow on the left of the label */\n",
       "  content: \"▸\";\n",
       "  float: left;\n",
       "  margin-right: 0.25em;\n",
       "  color: var(--sklearn-color-icon);\n",
       "}\n",
       "\n",
       "#sk-container-id-9 label.sk-toggleable__label-arrow:hover:before {\n",
       "  color: var(--sklearn-color-text);\n",
       "}\n",
       "\n",
       "/* Toggleable content - dropdown */\n",
       "\n",
       "#sk-container-id-9 div.sk-toggleable__content {\n",
       "  max-height: 0;\n",
       "  max-width: 0;\n",
       "  overflow: hidden;\n",
       "  text-align: left;\n",
       "  /* unfitted */\n",
       "  background-color: var(--sklearn-color-unfitted-level-0);\n",
       "}\n",
       "\n",
       "#sk-container-id-9 div.sk-toggleable__content.fitted {\n",
       "  /* fitted */\n",
       "  background-color: var(--sklearn-color-fitted-level-0);\n",
       "}\n",
       "\n",
       "#sk-container-id-9 div.sk-toggleable__content pre {\n",
       "  margin: 0.2em;\n",
       "  border-radius: 0.25em;\n",
       "  color: var(--sklearn-color-text);\n",
       "  /* unfitted */\n",
       "  background-color: var(--sklearn-color-unfitted-level-0);\n",
       "}\n",
       "\n",
       "#sk-container-id-9 div.sk-toggleable__content.fitted pre {\n",
       "  /* unfitted */\n",
       "  background-color: var(--sklearn-color-fitted-level-0);\n",
       "}\n",
       "\n",
       "#sk-container-id-9 input.sk-toggleable__control:checked~div.sk-toggleable__content {\n",
       "  /* Expand drop-down */\n",
       "  max-height: 200px;\n",
       "  max-width: 100%;\n",
       "  overflow: auto;\n",
       "}\n",
       "\n",
       "#sk-container-id-9 input.sk-toggleable__control:checked~label.sk-toggleable__label-arrow:before {\n",
       "  content: \"▾\";\n",
       "}\n",
       "\n",
       "/* Pipeline/ColumnTransformer-specific style */\n",
       "\n",
       "#sk-container-id-9 div.sk-label input.sk-toggleable__control:checked~label.sk-toggleable__label {\n",
       "  color: var(--sklearn-color-text);\n",
       "  background-color: var(--sklearn-color-unfitted-level-2);\n",
       "}\n",
       "\n",
       "#sk-container-id-9 div.sk-label.fitted input.sk-toggleable__control:checked~label.sk-toggleable__label {\n",
       "  background-color: var(--sklearn-color-fitted-level-2);\n",
       "}\n",
       "\n",
       "/* Estimator-specific style */\n",
       "\n",
       "/* Colorize estimator box */\n",
       "#sk-container-id-9 div.sk-estimator input.sk-toggleable__control:checked~label.sk-toggleable__label {\n",
       "  /* unfitted */\n",
       "  background-color: var(--sklearn-color-unfitted-level-2);\n",
       "}\n",
       "\n",
       "#sk-container-id-9 div.sk-estimator.fitted input.sk-toggleable__control:checked~label.sk-toggleable__label {\n",
       "  /* fitted */\n",
       "  background-color: var(--sklearn-color-fitted-level-2);\n",
       "}\n",
       "\n",
       "#sk-container-id-9 div.sk-label label.sk-toggleable__label,\n",
       "#sk-container-id-9 div.sk-label label {\n",
       "  /* The background is the default theme color */\n",
       "  color: var(--sklearn-color-text-on-default-background);\n",
       "}\n",
       "\n",
       "/* On hover, darken the color of the background */\n",
       "#sk-container-id-9 div.sk-label:hover label.sk-toggleable__label {\n",
       "  color: var(--sklearn-color-text);\n",
       "  background-color: var(--sklearn-color-unfitted-level-2);\n",
       "}\n",
       "\n",
       "/* Label box, darken color on hover, fitted */\n",
       "#sk-container-id-9 div.sk-label.fitted:hover label.sk-toggleable__label.fitted {\n",
       "  color: var(--sklearn-color-text);\n",
       "  background-color: var(--sklearn-color-fitted-level-2);\n",
       "}\n",
       "\n",
       "/* Estimator label */\n",
       "\n",
       "#sk-container-id-9 div.sk-label label {\n",
       "  font-family: monospace;\n",
       "  font-weight: bold;\n",
       "  display: inline-block;\n",
       "  line-height: 1.2em;\n",
       "}\n",
       "\n",
       "#sk-container-id-9 div.sk-label-container {\n",
       "  text-align: center;\n",
       "}\n",
       "\n",
       "/* Estimator-specific */\n",
       "#sk-container-id-9 div.sk-estimator {\n",
       "  font-family: monospace;\n",
       "  border: 1px dotted var(--sklearn-color-border-box);\n",
       "  border-radius: 0.25em;\n",
       "  box-sizing: border-box;\n",
       "  margin-bottom: 0.5em;\n",
       "  /* unfitted */\n",
       "  background-color: var(--sklearn-color-unfitted-level-0);\n",
       "}\n",
       "\n",
       "#sk-container-id-9 div.sk-estimator.fitted {\n",
       "  /* fitted */\n",
       "  background-color: var(--sklearn-color-fitted-level-0);\n",
       "}\n",
       "\n",
       "/* on hover */\n",
       "#sk-container-id-9 div.sk-estimator:hover {\n",
       "  /* unfitted */\n",
       "  background-color: var(--sklearn-color-unfitted-level-2);\n",
       "}\n",
       "\n",
       "#sk-container-id-9 div.sk-estimator.fitted:hover {\n",
       "  /* fitted */\n",
       "  background-color: var(--sklearn-color-fitted-level-2);\n",
       "}\n",
       "\n",
       "/* Specification for estimator info (e.g. \"i\" and \"?\") */\n",
       "\n",
       "/* Common style for \"i\" and \"?\" */\n",
       "\n",
       ".sk-estimator-doc-link,\n",
       "a:link.sk-estimator-doc-link,\n",
       "a:visited.sk-estimator-doc-link {\n",
       "  float: right;\n",
       "  font-size: smaller;\n",
       "  line-height: 1em;\n",
       "  font-family: monospace;\n",
       "  background-color: var(--sklearn-color-background);\n",
       "  border-radius: 1em;\n",
       "  height: 1em;\n",
       "  width: 1em;\n",
       "  text-decoration: none !important;\n",
       "  margin-left: 1ex;\n",
       "  /* unfitted */\n",
       "  border: var(--sklearn-color-unfitted-level-1) 1pt solid;\n",
       "  color: var(--sklearn-color-unfitted-level-1);\n",
       "}\n",
       "\n",
       ".sk-estimator-doc-link.fitted,\n",
       "a:link.sk-estimator-doc-link.fitted,\n",
       "a:visited.sk-estimator-doc-link.fitted {\n",
       "  /* fitted */\n",
       "  border: var(--sklearn-color-fitted-level-1) 1pt solid;\n",
       "  color: var(--sklearn-color-fitted-level-1);\n",
       "}\n",
       "\n",
       "/* On hover */\n",
       "div.sk-estimator:hover .sk-estimator-doc-link:hover,\n",
       ".sk-estimator-doc-link:hover,\n",
       "div.sk-label-container:hover .sk-estimator-doc-link:hover,\n",
       ".sk-estimator-doc-link:hover {\n",
       "  /* unfitted */\n",
       "  background-color: var(--sklearn-color-unfitted-level-3);\n",
       "  color: var(--sklearn-color-background);\n",
       "  text-decoration: none;\n",
       "}\n",
       "\n",
       "div.sk-estimator.fitted:hover .sk-estimator-doc-link.fitted:hover,\n",
       ".sk-estimator-doc-link.fitted:hover,\n",
       "div.sk-label-container:hover .sk-estimator-doc-link.fitted:hover,\n",
       ".sk-estimator-doc-link.fitted:hover {\n",
       "  /* fitted */\n",
       "  background-color: var(--sklearn-color-fitted-level-3);\n",
       "  color: var(--sklearn-color-background);\n",
       "  text-decoration: none;\n",
       "}\n",
       "\n",
       "/* Span, style for the box shown on hovering the info icon */\n",
       ".sk-estimator-doc-link span {\n",
       "  display: none;\n",
       "  z-index: 9999;\n",
       "  position: relative;\n",
       "  font-weight: normal;\n",
       "  right: .2ex;\n",
       "  padding: .5ex;\n",
       "  margin: .5ex;\n",
       "  width: min-content;\n",
       "  min-width: 20ex;\n",
       "  max-width: 50ex;\n",
       "  color: var(--sklearn-color-text);\n",
       "  box-shadow: 2pt 2pt 4pt #999;\n",
       "  /* unfitted */\n",
       "  background: var(--sklearn-color-unfitted-level-0);\n",
       "  border: .5pt solid var(--sklearn-color-unfitted-level-3);\n",
       "}\n",
       "\n",
       ".sk-estimator-doc-link.fitted span {\n",
       "  /* fitted */\n",
       "  background: var(--sklearn-color-fitted-level-0);\n",
       "  border: var(--sklearn-color-fitted-level-3);\n",
       "}\n",
       "\n",
       ".sk-estimator-doc-link:hover span {\n",
       "  display: block;\n",
       "}\n",
       "\n",
       "/* \"?\"-specific style due to the `<a>` HTML tag */\n",
       "\n",
       "#sk-container-id-9 a.estimator_doc_link {\n",
       "  float: right;\n",
       "  font-size: 1rem;\n",
       "  line-height: 1em;\n",
       "  font-family: monospace;\n",
       "  background-color: var(--sklearn-color-background);\n",
       "  border-radius: 1rem;\n",
       "  height: 1rem;\n",
       "  width: 1rem;\n",
       "  text-decoration: none;\n",
       "  /* unfitted */\n",
       "  color: var(--sklearn-color-unfitted-level-1);\n",
       "  border: var(--sklearn-color-unfitted-level-1) 1pt solid;\n",
       "}\n",
       "\n",
       "#sk-container-id-9 a.estimator_doc_link.fitted {\n",
       "  /* fitted */\n",
       "  border: var(--sklearn-color-fitted-level-1) 1pt solid;\n",
       "  color: var(--sklearn-color-fitted-level-1);\n",
       "}\n",
       "\n",
       "/* On hover */\n",
       "#sk-container-id-9 a.estimator_doc_link:hover {\n",
       "  /* unfitted */\n",
       "  background-color: var(--sklearn-color-unfitted-level-3);\n",
       "  color: var(--sklearn-color-background);\n",
       "  text-decoration: none;\n",
       "}\n",
       "\n",
       "#sk-container-id-9 a.estimator_doc_link.fitted:hover {\n",
       "  /* fitted */\n",
       "  background-color: var(--sklearn-color-fitted-level-3);\n",
       "}\n",
       "</style><div id=\"sk-container-id-9\" class=\"sk-top-container\"><div class=\"sk-text-repr-fallback\"><pre>LogisticRegression(C=1, max_iter=1000)</pre><b>In a Jupyter environment, please rerun this cell to show the HTML representation or trust the notebook. <br />On GitHub, the HTML representation is unable to render, please try loading this page with nbviewer.org.</b></div><div class=\"sk-container\" hidden><div class=\"sk-item\"><div class=\"sk-estimator fitted sk-toggleable\"><input class=\"sk-toggleable__control sk-hidden--visually\" id=\"sk-estimator-id-9\" type=\"checkbox\" checked><label for=\"sk-estimator-id-9\" class=\"sk-toggleable__label fitted sk-toggleable__label-arrow fitted\">&nbsp;&nbsp;LogisticRegression<a class=\"sk-estimator-doc-link fitted\" rel=\"noreferrer\" target=\"_blank\" href=\"https://scikit-learn.org/1.4/modules/generated/sklearn.linear_model.LogisticRegression.html\">?<span>Documentation for LogisticRegression</span></a><span class=\"sk-estimator-doc-link fitted\">i<span>Fitted</span></span></label><div class=\"sk-toggleable__content fitted\"><pre>LogisticRegression(C=1, max_iter=1000)</pre></div> </div></div></div></div>"
      ],
      "text/plain": [
       "LogisticRegression(C=1, max_iter=1000)"
      ]
     },
     "execution_count": 98,
     "metadata": {},
     "output_type": "execute_result"
    }
   ],
   "source": [
    "# Define the model hyperparameters\n",
    "params = {\"multi_class\": \"auto\", \"C\": 1, \"penalty\":\"l2\", \"max_iter\": 1000}\n",
    "\n",
    "# Train the model\n",
    "lr = LogisticRegression(**params)\n",
    "lr.fit(X_train, y_train)\n",
    "\n",
    "# Predict on the test set\n",
    "#y_pred = lr.predict(X_test)\n",
    "\n",
    "# Calculate accuracy as a target loss metric\n",
    "#accuracy = accuracy_score(y_test, y_pred)\n"
   ]
  },
  {
   "cell_type": "code",
   "execution_count": 99,
   "id": "cbc12958-6ede-426d-a500-20d221ce5366",
   "metadata": {},
   "outputs": [],
   "source": [
    "y_pred = lr.predict(X_test)\n"
   ]
  },
  {
   "cell_type": "code",
   "execution_count": 100,
   "id": "59915833-37fd-430c-a06c-3ec21186ba61",
   "metadata": {},
   "outputs": [],
   "source": [
    "accuracy = accuracy_score(y_test, y_pred)\n"
   ]
  },
  {
   "cell_type": "code",
   "execution_count": 101,
   "id": "5a015b95-c50a-413f-9f4b-2e9afb1d31c4",
   "metadata": {},
   "outputs": [
    {
     "name": "stdout",
     "output_type": "stream",
     "text": [
      "0.7934782608695652\n"
     ]
    }
   ],
   "source": [
    "print(accuracy)"
   ]
  },
  {
   "cell_type": "code",
   "execution_count": 102,
   "id": "fe777a89-f465-46ef-97a8-e030d690a163",
   "metadata": {},
   "outputs": [
    {
     "name": "stdout",
     "output_type": "stream",
     "text": [
      "[[-1.34842245 -1.90767935 -1.07714551 ...  1.13407085  0.71880339\n",
      "  -0.65550334]\n",
      " [ 1.10575591  0.52419711  1.60839075 ... -0.53851252  3.37982804\n",
      "   0.93550311]\n",
      " [ 1.21245931  0.52419711 -0.18196676 ... -0.53851252 -0.61170894\n",
      "   0.93550311]\n",
      " ...\n",
      " [-0.17468498  0.52419711 -1.07714551 ...  1.13407085 -0.61170894\n",
      "  -0.65550334]\n",
      " [ 0.67894228 -1.90767935 -1.07714551 ...  1.13407085 -0.61170894\n",
      "  -0.65550334]\n",
      " [ 0.03872184  0.52419711  1.60839075 ... -0.53851252 -0.61170894\n",
      "   0.93550311]]\n"
     ]
    }
   ],
   "source": [
    "print(X_test)"
   ]
  },
  {
   "cell_type": "code",
   "execution_count": 103,
   "id": "7ebea63b-08bf-4d46-8f7e-b850c79d5c51",
   "metadata": {},
   "outputs": [
    {
     "name": "stderr",
     "output_type": "stream",
     "text": [
      "/opt/conda/lib/python3.11/site-packages/_distutils_hack/__init__.py:17: UserWarning: Distutils was imported before Setuptools, but importing Setuptools also replaces the `distutils` module in `sys.modules`. This may lead to undesirable behaviors or errors. To avoid these issues, avoid using distutils directly, ensure that setuptools is installed in the traditional way (e.g. not an editable install), and/or make sure that setuptools is always imported before distutils.\n",
      "  warnings.warn(\n",
      "/opt/conda/lib/python3.11/site-packages/_distutils_hack/__init__.py:32: UserWarning: Setuptools is replacing distutils. Support for replacing an already imported distutils is deprecated. In the future, this condition will fail. Register concerns at https://github.com/pypa/setuptools/issues/new?template=distutils-deprecation.yml\n",
      "  warnings.warn(\n",
      "Successfully registered model 'tfc-mlf-lr-hear'.\n",
      "2024/10/07 23:20:06 INFO mlflow.store.model_registry.abstract_store: Waiting up to 300 seconds for model version to finish creation. Model name: tfc-mlf-lr-hear, version 1\n",
      "Created version '1' of model 'tfc-mlf-lr-hear'.\n"
     ]
    },
    {
     "data": {
      "application/vnd.jupyter.widget-view+json": {
       "model_id": "ee892bcc78764f62a81f884faa5f40c9",
       "version_major": 2,
       "version_minor": 0
      },
      "text/plain": [
       "Downloading artifacts:   0%|          | 0/7 [00:00<?, ?it/s]"
      ]
     },
     "metadata": {},
     "output_type": "display_data"
    },
    {
     "name": "stderr",
     "output_type": "stream",
     "text": [
      "2024/10/07 23:20:06 INFO mlflow.tracking._tracking_service.client: 🏃 View run tfc_run_heart_2024-10-07-2315 at: https://us-east-1.experiments.sagemaker.aws/#/experiments/2/runs/e8ccf19465eb4419a8065515856e4aac.\n",
      "2024/10/07 23:20:06 INFO mlflow.tracking._tracking_service.client: 🧪 View experiment at: https://us-east-1.experiments.sagemaker.aws/#/experiments/2.\n"
     ]
    }
   ],
   "source": [
    "# Start an MLflow run and log parameters, metrics, and model artifacts\n",
    "with mlflow.start_run() as run:\n",
    "    # Log the hyperparameters\n",
    "    mlflow.log_params(params)\n",
    "\n",
    "    # Log the loss metric\n",
    "    mlflow.log_metric(\"accuracy\", accuracy)\n",
    "\n",
    "    # Set a tag that we can use to remind ourselves what this run was for\n",
    "    mlflow.set_tag(\"Training Info\", \"Basic LR model for heart data\")\n",
    "\n",
    "    mlflow.set_tag(\"mlflow.runName\", \"tfc_run_heart_\" + datenow)\n",
    "    \n",
    "    # Infer the model signature\n",
    "    signature = infer_signature(X_train, lr.predict(X_train))\n",
    "\n",
    "    # Log the model\n",
    "    model_info = mlflow.sklearn.log_model(\n",
    "        sk_model=lr,\n",
    "        artifact_path=\"tfc_mlf_lr_heart\",\n",
    "        signature=signature,\n",
    "        input_example=X_train,\n",
    "        registered_model_name=\"tfc-mlf-lr-hear\",\n",
    "    )"
   ]
  },
  {
   "cell_type": "code",
   "execution_count": 106,
   "id": "9f59d433-6065-46a3-a1e3-2b8cb258322d",
   "metadata": {},
   "outputs": [
    {
     "name": "stdout",
     "output_type": "stream",
     "text": [
      "runs:/e8ccf19465eb4419a8065515856e4aac/tfc-mlf-lr-heart\n"
     ]
    }
   ],
   "source": [
    "model_uri = f\"runs:/{run.info.run_id}/tfc-mlf-lr-hear\"\n",
    "\n",
    "print(model_uri)\n"
   ]
  },
  {
   "cell_type": "code",
   "execution_count": 107,
   "id": "896bffda-8729-4956-ab7c-e0c2a5770385",
   "metadata": {},
   "outputs": [
    {
     "name": "stderr",
     "output_type": "stream",
     "text": [
      "Successfully registered model 'tfc-model-lr-hear'.\n",
      "2024/10/07 23:23:34 INFO mlflow.store.model_registry.abstract_store: Waiting up to 300 seconds for model version to finish creation. Model name: tfc-model-lr-hear, version 1\n"
     ]
    },
    {
     "name": "stdout",
     "output_type": "stream",
     "text": [
      "Name: tfc-model-lr-hear\n",
      "Version: 1\n"
     ]
    },
    {
     "name": "stderr",
     "output_type": "stream",
     "text": [
      "Created version '1' of model 'tfc-model-lr-hear'.\n"
     ]
    }
   ],
   "source": [
    "\n",
    "\n",
    "mv = mlflow.register_model(model_uri, \"tfc-model-lr-hear\")\n",
    "\n",
    "print(f\"Name: {mv.name}\")\n",
    "print(f\"Version: {mv.version}\")"
   ]
  },
  {
   "cell_type": "code",
   "execution_count": 118,
   "id": "76e4e195-c0e6-4f94-8ad9-813c2ddc3606",
   "metadata": {},
   "outputs": [],
   "source": [
    "'''\n",
    "from sagemaker.serve import SchemaBuilder\n",
    "\n",
    "sklearn_input = X_train.reshape(1, -1)\n",
    "#sklearn_input = np.array([1.0, 2.0, 3.0, 4.0]).reshape(1, -1)\n",
    "sklearn_output = 1\n",
    "sklearn_schema_builder = SchemaBuilder(\n",
    "    sample_input=sklearn_input,\n",
    "    sample_output=sklearn_output,\n",
    ")\n",
    "'''"
   ]
  },
  {
   "cell_type": "code",
   "execution_count": 122,
   "id": "dbab07aa-8887-4907-829b-421d750767ad",
   "metadata": {},
   "outputs": [
    {
     "name": "stdout",
     "output_type": "stream",
     "text": [
      "[[-1.13501564  0.52419711 -1.07714551 ...  1.13407085  0.71880339\n",
      "  -0.65550334]\n",
      " [ 1.21245931  0.52419711  1.60839075 ... -0.53851252  0.71880339\n",
      "   0.93550311]\n",
      " [-2.62886334  0.52419711 -0.18196676 ...  1.13407085 -0.61170894\n",
      "  -0.65550334]\n",
      " ...\n",
      " [ 1.42586613  0.52419711 -1.07714551 ... -0.53851252 -0.61170894\n",
      "  -0.65550334]\n",
      " [ 1.95938316  0.52419711  1.60839075 ... -0.53851252  0.71880339\n",
      "   0.93550311]\n",
      " [-1.77523608 -1.90767935 -0.18196676 ...  1.13407085 -0.61170894\n",
      "  -0.65550334]]\n",
      "[[-1.13501564  0.52419711 -1.07714551 ...  1.13407085 -0.61170894\n",
      "  -0.65550334]]\n"
     ]
    }
   ],
   "source": [
    "print(sklearn_input)"
   ]
  },
  {
   "cell_type": "code",
   "execution_count": 130,
   "id": "f31644c1-e205-4767-afdd-d31e9027fb7c",
   "metadata": {},
   "outputs": [
    {
     "name": "stdout",
     "output_type": "stream",
     "text": [
      "arn:aws:iam::828238096174:role/apg-role-sage\n"
     ]
    },
    {
     "ename": "AttributeError",
     "evalue": "'ModelVersion' object has no attribute 'latest_versions'",
     "output_type": "error",
     "traceback": [
      "\u001b[0;31m---------------------------------------------------------------------------\u001b[0m",
      "\u001b[0;31mAttributeError\u001b[0m                            Traceback (most recent call last)",
      "Cell \u001b[0;32mIn[130], line 3\u001b[0m\n\u001b[1;32m      1\u001b[0m role \u001b[38;5;241m=\u001b[39m sagemaker\u001b[38;5;241m.\u001b[39mget_execution_role()\n\u001b[1;32m      2\u001b[0m \u001b[38;5;28mprint\u001b[39m(role)\n\u001b[0;32m----> 3\u001b[0m model_path \u001b[38;5;241m=\u001b[39m \u001b[43mmv\u001b[49m\u001b[38;5;241;43m.\u001b[39;49m\u001b[43mlatest_versions\u001b[49m[\u001b[38;5;241m0\u001b[39m]\u001b[38;5;241m.\u001b[39msource\n\u001b[1;32m      4\u001b[0m \u001b[38;5;28mprint\u001b[39m(model_path)\n",
      "\u001b[0;31mAttributeError\u001b[0m: 'ModelVersion' object has no attribute 'latest_versions'"
     ]
    }
   ],
   "source": [
    "role = sagemaker.get_execution_role()\n",
    "print(role)"
   ]
  },
  {
   "cell_type": "code",
   "execution_count": 131,
   "id": "af793e6b-25a3-425c-b707-b8bd0f245ba1",
   "metadata": {},
   "outputs": [
    {
     "name": "stdout",
     "output_type": "stream",
     "text": [
      "models:/tfc-model-lr-hear/1\n"
     ]
    }
   ],
   "source": [
    "model_name = mv.name\n",
    "model_version = mv.version\n",
    "model_path = f\"models:/{model_name}/{model_version}\"\n",
    "print(model_path)"
   ]
  },
  {
   "cell_type": "code",
   "execution_count": 143,
   "id": "d68bc430-6394-4f19-a495-b681c3251ede",
   "metadata": {},
   "outputs": [
    {
     "name": "stdout",
     "output_type": "stream",
     "text": [
      "runs:/e8ccf19465eb4419a8065515856e4aac/tfc-mlf-lr-hear\n"
     ]
    }
   ],
   "source": [
    "#model_uri = f\"runs:/{run.info.run_id}/tfc-mlf-lr-hear\"\n",
    "#print(model_uri)\n",
    "\n",
    "model_uri = \"runs:/{run_id}/{artifact_path}\".format(run_id=run.info.run_id, artifact_path='tfc-mlf-lr-hear')\n",
    "print(model_uri)"
   ]
  },
  {
   "cell_type": "code",
   "execution_count": 132,
   "id": "f7091673-952c-43f3-9576-1432da851cdd",
   "metadata": {},
   "outputs": [
    {
     "name": "stdout",
     "output_type": "stream",
     "text": [
      "arn:aws:sagemaker:us-east-1:828238096174:mlflow-tracking-server/apg-mlflow-sage\n"
     ]
    }
   ],
   "source": [
    "mlflow_arn = f\"arn:aws:sagemaker:us-east-1:828238096174:mlflow-tracking-server/apg-mlflow-sage\"\n",
    "print(mlflow_arn)"
   ]
  },
  {
   "cell_type": "code",
   "execution_count": 201,
   "id": "1304c01c-e378-44cb-b216-302ccc77a8a8",
   "metadata": {},
   "outputs": [
    {
     "name": "stdout",
     "output_type": "stream",
     "text": [
      "s3://my-unique-bucket-name-test-zzz/art/z0/e8ccf19465eb4419a8065515856e4aac/artifacts/tfc_mlf_lr_heart\n"
     ]
    }
   ],
   "source": [
    "client = mlflow.MlflowClient()\n",
    "registered_model = client.get_registered_model(name=\"tfc-mlf-lr-hear\")\n",
    "#model_source_path = registered_model.latest_versions[0].source\n",
    "model_source_path = f\"s3://my-unique-bucket-name-test-zzz/art/z0/e8ccf19465eb4419a8065515856e4aac/artifacts/tfc_mlf_lr_heart\"\n",
    "print(model_source_path)"
   ]
  },
  {
   "cell_type": "code",
   "execution_count": 199,
   "id": "6b36235d-3b1e-449a-af8a-4af5ffca4c2d",
   "metadata": {},
   "outputs": [
    {
     "name": "stderr",
     "output_type": "stream",
     "text": [
      "INFO:sagemaker.image_uris:Defaulting to only available Python version: py3\n",
      "INFO:sagemaker.image_uris:Defaulting to only supported image scope: cpu.\n"
     ]
    },
    {
     "name": "stdout",
     "output_type": "stream",
     "text": [
      "683313688378.dkr.ecr.us-east-1.amazonaws.com/sagemaker-scikit-learn:1.2-1-cpu-py3\n"
     ]
    }
   ],
   "source": [
    "#image_uri_model = f\"081325390199.dkr.ecr.us-east-1.amazonaws.com/sagemaker-data-science-311-v1\"\n",
    "#image_uri_model = sagemaker.image_uris.retrieve(\"linear-learner\", \"eu-central-1\")\n",
    "#image_uri_model = sagemaker.image_uris.get_base_python_image_uri('us-east-1', py_version='310')\n",
    "#sagemaker.image_uris.retrieve(\"sagemaker-data-science-311-v1\t\", \"us-east-1\")\n",
    "#image_uri_model = sagemaker.image_uris.retrieve(framework='pytorch',region='us-east-1',version='2.0.0',py_version='py310',image_scope='inference')\n",
    "#image_uri_model = sagemaker.image_uris.retrieve(framework='pytorch',region='us-east-1')\n",
    "#image_uri_model = sagemaker.image_uris.retrieve(framework='sklearn',region='us-east-2',version='1.2-1',image_scope='inference')\n",
    "#image_uri_model = sagemaker.image_uris.retrieve(framework='pytorch',region='us-east-1',version='2.0.0',py_version='py310',image_scope='inference', instance_type='ml.c5.4xlarge')\n",
    "#image_uri_model = sagemaker.image_uris.retrieve(framework='sklearn',region='us-east-2',version='1.2-1', py_version='py310',image_scope='inference', instance_type='ml.c5.4xlarge')\n",
    "image_uri_model = sagemaker.image_uris.retrieve(framework='sklearn',region='us-east-1',version='1.2-1',image_scope='inference')\n",
    "print(image_uri_model)"
   ]
  },
  {
   "cell_type": "code",
   "execution_count": 167,
   "id": "f1625875-1a45-4742-8b67-234eb83dd540",
   "metadata": {},
   "outputs": [
    {
     "ename": "TypeError",
     "evalue": "get_training_image_uri() missing 2 required positional arguments: 'region' and 'framework'",
     "output_type": "error",
     "traceback": [
      "\u001b[0;31m---------------------------------------------------------------------------\u001b[0m",
      "\u001b[0;31mTypeError\u001b[0m                                 Traceback (most recent call last)",
      "Cell \u001b[0;32mIn[167], line 1\u001b[0m\n\u001b[0;32m----> 1\u001b[0m zzztest \u001b[38;5;241m=\u001b[39m \u001b[43msagemaker\u001b[49m\u001b[38;5;241;43m.\u001b[39;49m\u001b[43mimage_uris\u001b[49m\u001b[38;5;241;43m.\u001b[39;49m\u001b[43mget_training_image_uri\u001b[49m\u001b[43m(\u001b[49m\u001b[43mimage_uri\u001b[49m\u001b[38;5;241;43m=\u001b[39;49m\u001b[38;5;124;43m\"\u001b[39;49m\u001b[38;5;124;43m081325390199.dkr.ecr.us-east-1.amazonaws.com/sagemaker-data-science-311-v1\u001b[39;49m\u001b[38;5;124;43m\"\u001b[39;49m\u001b[43m)\u001b[49m\n\u001b[1;32m      2\u001b[0m \u001b[38;5;28mprint\u001b[39m(test)\n",
      "File \u001b[0;32m/opt/conda/lib/python3.11/site-packages/sagemaker/workflow/utilities.py:424\u001b[0m, in \u001b[0;36moverride_pipeline_parameter_var.<locals>.wrapper\u001b[0;34m(*args, **kwargs)\u001b[0m\n\u001b[1;32m    422\u001b[0m         logger\u001b[38;5;241m.\u001b[39mwarning(warning_msg_template, arg_name, func_name, \u001b[38;5;28mtype\u001b[39m(value))\n\u001b[1;32m    423\u001b[0m         kwargs[arg_name] \u001b[38;5;241m=\u001b[39m value\u001b[38;5;241m.\u001b[39mdefault_value\n\u001b[0;32m--> 424\u001b[0m \u001b[38;5;28;01mreturn\u001b[39;00m \u001b[43mfunc\u001b[49m\u001b[43m(\u001b[49m\u001b[38;5;241;43m*\u001b[39;49m\u001b[43margs\u001b[49m\u001b[43m,\u001b[49m\u001b[43m \u001b[49m\u001b[38;5;241;43m*\u001b[39;49m\u001b[38;5;241;43m*\u001b[39;49m\u001b[43mkwargs\u001b[49m\u001b[43m)\u001b[49m\n",
      "\u001b[0;31mTypeError\u001b[0m: get_training_image_uri() missing 2 required positional arguments: 'region' and 'framework'"
     ]
    }
   ],
   "source": []
  },
  {
   "cell_type": "code",
   "execution_count": 202,
   "id": "f482de1e-ef09-40f3-aab0-5f3ad74b59b4",
   "metadata": {},
   "outputs": [],
   "source": [
    "from sagemaker.serve import ModelBuilder\n",
    "from sagemaker.serve.mode.function_pointers import Mode\n",
    "from sagemaker.serve import SchemaBuilder\n",
    "\n",
    "#sklearn_input = X_train.reshape(1, -1)\n",
    "#sklearn_output = 1\n",
    "\n",
    "sklearn_input = X_test[[0, 1]]\n",
    "sklearn_output = [1, 2]\n",
    "\n",
    "my_schema = SchemaBuilder(\n",
    "    sample_input=sklearn_input, \n",
    "    sample_output=sklearn_output\n",
    ")\n",
    "\n",
    "model_builder = ModelBuilder(\n",
    "    name=\"tfc-mlf-lr-heart\",\n",
    "    mode=Mode.SAGEMAKER_ENDPOINT,\n",
    "    schema_builder=my_schema,\n",
    "    role_arn=role,\n",
    "    image_uri=image_uri_model,\n",
    "    model_metadata={\n",
    "        # both model path and tracking server ARN are required if you use an mlflow run ID or mlflow model registry path as input\n",
    "        \"MLFLOW_MODEL_PATH\": model_source_path,\n",
    "        \"MLFLOW_TRACKING_ARN\": mlflow_arn\n",
    "    }\n",
    ")"
   ]
  },
  {
   "cell_type": "code",
   "execution_count": 203,
   "id": "4ebf4686-1115-4a96-836b-6e8ad2229d9a",
   "metadata": {},
   "outputs": [
    {
     "name": "stderr",
     "output_type": "stream",
     "text": [
      "ModelBuilder: INFO:     Downloading art/z0/e8ccf19465eb4419a8065515856e4aac/artifacts/tfc_mlf_lr_heart/MLmodel to /tmp/sagemaker/model-builder/73f9e562850b11efa22b6edf4e483307/MLmodel\n",
      "ModelBuilder: INFO:     Downloading art/z0/e8ccf19465eb4419a8065515856e4aac/artifacts/tfc_mlf_lr_heart/conda.yaml to /tmp/sagemaker/model-builder/73f9e562850b11efa22b6edf4e483307/conda.yaml\n",
      "ModelBuilder: INFO:     Downloading art/z0/e8ccf19465eb4419a8065515856e4aac/artifacts/tfc_mlf_lr_heart/input_example.json to /tmp/sagemaker/model-builder/73f9e562850b11efa22b6edf4e483307/input_example.json\n",
      "ModelBuilder: INFO:     Downloading art/z0/e8ccf19465eb4419a8065515856e4aac/artifacts/tfc_mlf_lr_heart/model.pkl to /tmp/sagemaker/model-builder/73f9e562850b11efa22b6edf4e483307/model.pkl\n",
      "ModelBuilder: INFO:     Downloading art/z0/e8ccf19465eb4419a8065515856e4aac/artifacts/tfc_mlf_lr_heart/python_env.yaml to /tmp/sagemaker/model-builder/73f9e562850b11efa22b6edf4e483307/python_env.yaml\n",
      "ModelBuilder: INFO:     Downloading art/z0/e8ccf19465eb4419a8065515856e4aac/artifacts/tfc_mlf_lr_heart/requirements.txt to /tmp/sagemaker/model-builder/73f9e562850b11efa22b6edf4e483307/requirements.txt\n",
      "ModelBuilder: INFO:     Downloading art/z0/e8ccf19465eb4419a8065515856e4aac/artifacts/tfc_mlf_lr_heart/serving_input_payload.json to /tmp/sagemaker/model-builder/73f9e562850b11efa22b6edf4e483307/serving_input_payload.json\n",
      "ModelBuilder: INFO:     Skipping auto detection as the image uri is provided 683313688378.dkr.ecr.us-east-1.amazonaws.com/sagemaker-scikit-learn:1.2-1-cpu-py3\n",
      "ModelBuilder: DEBUG:     Packaging provided requirements.txt from /tmp/sagemaker/model-builder/73f9e562850b11efa22b6edf4e483307/requirements.txt\n",
      "ModelBuilder: DEBUG:     Uploading the model resources to bucket=sagemaker-us-east-1-828238096174, key_prefix=sagemaker-scikit-learn-2024-10-09-01-07-59-151.\n",
      "Uploading model artifacts: 100%|████████████████████| 586620/586620 [00:00<00:00, 2573132.36bytes/s]\n",
      "ModelBuilder: DEBUG:     Model resources uploaded to: s3://sagemaker-us-east-1-828238096174/sagemaker-scikit-learn-2024-10-09-01-07-59-151/serve.tar.gz\n"
     ]
    }
   ],
   "source": [
    "model = model_builder.build()"
   ]
  },
  {
   "cell_type": "code",
   "execution_count": 204,
   "id": "a44a3bcf-baa6-4c5d-89ca-113fb2b2261f",
   "metadata": {},
   "outputs": [
    {
     "name": "stderr",
     "output_type": "stream",
     "text": [
      "ModelBuilder: INFO:     ModelBuilder will collect telemetry to help us better understand our user's needs, diagnose issues, and deliver additional features. To opt out of telemetry, please disable via TelemetryOptOut in intelligent defaults. See https://sagemaker.readthedocs.io/en/stable/overview.html#configuring-and-using-defaults-with-the-sagemaker-python-sdk for more info.\n",
      "INFO:sagemaker:Creating model with name: sagemaker-scikit-learn-2024-10-09-01-08-29-089\n",
      "INFO:sagemaker:Creating endpoint-config with name tfc-ept-mlf-lr-heart\n",
      "INFO:sagemaker:Creating endpoint with name tfc-ept-mlf-lr-heart\n",
      "WARNING:sagemaker:Failed to enable live logging: An error occurred (AccessDeniedException) when calling the FilterLogEvents operation: User: arn:aws:sts::828238096174:assumed-role/apg-role-sage/SageMaker is not authorized to perform: logs:FilterLogEvents on resource: arn:aws:logs:us-east-1:828238096174:log-group:/aws/sagemaker/Endpoints/tfc-ept-mlf-lr-heart:log-stream: because no identity-based policy allows the logs:FilterLogEvents action. Fallback to default logging...\n"
     ]
    },
    {
     "name": "stdout",
     "output_type": "stream",
     "text": [
      "------------!"
     ]
    },
    {
     "name": "stderr",
     "output_type": "stream",
     "text": [
      "ModelBuilder: INFO:     Polling lineage artifact for model data in s3://sagemaker-us-east-1-828238096174/sagemaker-scikit-learn-2024-10-09-01-07-59-151/serve.tar.gz\n",
      "ModelBuilder: INFO:     Adding association with source_arn: arn:aws:sagemaker:us-east-1:828238096174:artifact/934b239ee9160e3ffe7a669155e064a2, destination_arn: arn:aws:sagemaker:us-east-1:828238096174:artifact/578ce46c46312a4e5fd4e433152f6764 and association_type: ContributedTo.\n",
      "ModelBuilder: DEBUG:     ModelBuilder metrics emitted.\n"
     ]
    }
   ],
   "source": [
    "predictor = model.deploy(\n",
    "                endpoint_name=\"tfc-ept-mlf-lr-heart\",\n",
    "                initial_instance_count=1,\n",
    "                instance_type=\"ml.m5.large\"\n",
    "            )"
   ]
  },
  {
   "cell_type": "code",
   "execution_count": 288,
   "id": "e56d801b-3245-4c5d-a7be-d5cc00095bd4",
   "metadata": {},
   "outputs": [],
   "source": [
    "#predictor.predict(sklearn_input)\n"
   ]
  },
  {
   "cell_type": "code",
   "execution_count": 293,
   "id": "78eacb16-66a3-4591-8c31-b41e5b8beec9",
   "metadata": {},
   "outputs": [],
   "source": [
    "import io\n",
    "\n",
    "sagemaker_runtime_client = boto3.client('sagemaker-runtime')\n",
    "\n",
    "# works as expected:\n",
    "buffer = io.BytesIO()\n",
    "np.save(buffer, X_test)\n",
    "invoke_response = sagemaker_runtime_client.invoke_endpoint(\n",
    "    EndpointName=predictor.endpoint_name,\n",
    "    Body=buffer.getvalue(),\n",
    "    ContentType='application/x-npy',\n",
    "    Accept='application/json'\n",
    ")\n",
    "\n"
   ]
  },
  {
   "cell_type": "code",
   "execution_count": 294,
   "id": "40221312-2240-4e86-a986-f1f40ea20a82",
   "metadata": {},
   "outputs": [
    {
     "name": "stdout",
     "output_type": "stream",
     "text": [
      "{'ResponseMetadata': {'RequestId': 'd8129576-e111-4cf1-8e31-3acd50e6c183', 'HTTPStatusCode': 200, 'HTTPHeaders': {'x-amzn-requestid': 'd8129576-e111-4cf1-8e31-3acd50e6c183', 'x-amzn-invoked-production-variant': 'AllTraffic', 'date': 'Wed, 09 Oct 2024 03:26:55 GMT', 'content-type': 'text/html; charset=utf-8', 'content-length': '552', 'connection': 'keep-alive'}, 'RetryAttempts': 0}, 'ContentType': 'text/html; charset=utf-8', 'InvokedProductionVariant': 'AllTraffic', 'Body': <botocore.response.StreamingBody object at 0x7f81d5b19780>}\n",
      "<botocore.response.StreamingBody object at 0x7f81d5b19780>\n"
     ]
    }
   ],
   "source": [
    "print(invoke_response)\n",
    "print(invoke_response['Body'])"
   ]
  },
  {
   "cell_type": "code",
   "execution_count": 246,
   "id": "93987a5a-c8d7-4eb0-894f-08f253873d63",
   "metadata": {},
   "outputs": [],
   "source": [
    "predictions = invoke_response['Body'].read()"
   ]
  },
  {
   "cell_type": "code",
   "execution_count": 247,
   "id": "7fbc3262-c189-4a5c-ac99-e237efa77882",
   "metadata": {},
   "outputs": [
    {
     "name": "stdout",
     "output_type": "stream",
     "text": [
      "b'[2, 1, 2, 1, 2, 1, 2, 2, 2, 2, 2, 2, 2, 2, 2, 2, 2, 2, 2, 2, 2, 2, 2, 2, 2, 2, 2, 2, 2, 2, 2, 2, 2, 2, 2, 2, 2, 2, 2, 2, 2, 2, 2, 2, 2, 2, 2, 2, 2, 2, 2, 2, 1, 2, 2, 2, 2, 2, 2, 1, 2, 2, 2, 0, 2, 1, 2, 2, 2, 1, 2, 0, 2, 2, 1, 2, 2, 2, 2, 2, 2, 2, 2, 2, 2, 2, 1, 2, 2, 2, 2, 2, 2, 2, 2, 2, 2, 2, 2, 2, 2, 2, 2, 2, 1, 2, 2, 1, 2, 2, 2, 1, 2, 2, 2, 1, 1, 1, 2, 2, 2, 2, 2, 2, 2, 2, 1, 2, 1, 2, 2, 1, 2, 2, 2, 2, 2, 2, 2, 2, 2, 2, 1, 2, 1, 2, 2, 2, 2, 2, 2, 2, 1, 0, 2, 2, 2, 2, 1, 2, 2, 2, 2, 2, 1, 2, 2, 2, 2, 2, 2, 2, 2, 2, 2, 2, 1, 2, 2, 2, 2, 2, 2, 2]'\n"
     ]
    }
   ],
   "source": [
    "print(predictions)"
   ]
  },
  {
   "cell_type": "code",
   "execution_count": 282,
   "id": "0b42f126-6ae0-4ff5-83dc-0b0413293e4f",
   "metadata": {},
   "outputs": [
    {
     "name": "stdout",
     "output_type": "stream",
     "text": [
      "[2, 1, 2, 1, 2, 1, 2, 2, 2, 2, 2, 2, 2, 2, 2, 2, 2, 2, 2, 2, 2, 2, 2, 2, 2, 2, 2, 2, 2, 2, 2, 2, 2, 2, 2, 2, 2, 2, 2, 2, 2, 2, 2, 2, 2, 2, 2, 2, 2, 2, 2, 2, 1, 2, 2, 2, 2, 2, 2, 1, 2, 2, 2, 0, 2, 1, 2, 2, 2, 1, 2, 0, 2, 2, 1, 2, 2, 2, 2, 2, 2, 2, 2, 2, 2, 2, 1, 2, 2, 2, 2, 2, 2, 2, 2, 2, 2, 2, 2, 2, 2, 2, 2, 2, 1, 2, 2, 1, 2, 2, 2, 1, 2, 2, 2, 1, 1, 1, 2, 2, 2, 2, 2, 2, 2, 2, 1, 2, 1, 2, 2, 1, 2, 2, 2, 2, 2, 2, 2, 2, 2, 2, 1, 2, 1, 2, 2, 2, 2, 2, 2, 2, 1, 0, 2, 2, 2, 2, 1, 2, 2, 2, 2, 2, 1, 2, 2, 2, 2, 2, 2, 2, 2, 2, 2, 2, 1, 2, 2, 2, 2, 2, 2, 2]\n"
     ]
    }
   ],
   "source": [
    "import codecs\n",
    "\n",
    "x_string = codecs.decode(predictions, 'utf-8')\n",
    "print(str(x_string))"
   ]
  },
  {
   "cell_type": "code",
   "execution_count": 285,
   "id": "d818180f-c7fa-42ba-83d0-a7e7b3364018",
   "metadata": {},
   "outputs": [
    {
     "name": "stdout",
     "output_type": "stream",
     "text": [
      "2, 1, 2, 1, 2, 1, 2, 2, 2, 2, 2, 2, 2, 2, 2, 2, 2, 2, 2, 2, 2, 2, 2, 2, 2, 2, 2, 2, 2, 2, 2, 2, 2, 2, 2, 2, 2, 2, 2, 2, 2, 2, 2, 2, 2, 2, 2, 2, 2, 2, 2, 2, 1, 2, 2, 2, 2, 2, 2, 1, 2, 2, 2, 0, 2, 1, 2, 2, 2, 1, 2, 0, 2, 2, 1, 2, 2, 2, 2, 2, 2, 2, 2, 2, 2, 2, 1, 2, 2, 2, 2, 2, 2, 2, 2, 2, 2, 2, 2, 2, 2, 2, 2, 2, 1, 2, 2, 1, 2, 2, 2, 1, 2, 2, 2, 1, 1, 1, 2, 2, 2, 2, 2, 2, 2, 2, 1, 2, 1, 2, 2, 1, 2, 2, 2, 2, 2, 2, 2, 2, 2, 2, 1, 2, 1, 2, 2, 2, 2, 2, 2, 2, 1, 0, 2, 2, 2, 2, 1, 2, 2, 2, 2, 2, 1, 2, 2, 2, 2, 2, 2, 2, 2, 2, 2, 2, 1, 2, 2, 2, 2, 2, 2, 2\n"
     ]
    }
   ],
   "source": [
    "x_string = x_string.replace(\"[\", \"\")\n",
    "x_string = x_string.replace(\"]\", \"\")\n",
    "print(x_string)"
   ]
  },
  {
   "cell_type": "code",
   "execution_count": 286,
   "id": "402a18cf-aab6-4b9b-bade-dfa8ed29ec7b",
   "metadata": {},
   "outputs": [],
   "source": [
    "dftmp = pd.DataFrame({'num_bins': x_string.split(\",\")})"
   ]
  },
  {
   "cell_type": "code",
   "execution_count": 287,
   "id": "0b0d31fd-f828-4f0e-af80-04c9b24f39f2",
   "metadata": {},
   "outputs": [
    {
     "name": "stdout",
     "output_type": "stream",
     "text": [
      "    num_bins\n",
      "0          2\n",
      "1          1\n",
      "2          2\n",
      "3          1\n",
      "4          2\n",
      "..       ...\n",
      "179        2\n",
      "180        2\n",
      "181        2\n",
      "182        2\n",
      "183        2\n",
      "\n",
      "[184 rows x 1 columns]\n"
     ]
    }
   ],
   "source": [
    "print(dftmp)"
   ]
  },
  {
   "cell_type": "code",
   "execution_count": null,
   "id": "11081008-ba18-4f40-8f7a-e86673beb136",
   "metadata": {},
   "outputs": [],
   "source": []
  },
  {
   "cell_type": "code",
   "execution_count": null,
   "id": "7a835dc8-b215-47e2-afcb-beed77279617",
   "metadata": {},
   "outputs": [],
   "source": [
    "#model.delete_model(model_name=model.name)\n",
    "#model.delete_endpoint_config(endpoint_config_name=model.endpoint_name)\n",
    "#model.delete_endpoint(endpoint_name=model.endpoint_name"
   ]
  },
  {
   "cell_type": "code",
   "execution_count": 292,
   "id": "81cdd4c1-bcb8-4ce1-8931-65dd8fc36466",
   "metadata": {},
   "outputs": [
    {
     "name": "stdout",
     "output_type": "stream",
     "text": [
      "[[-1.13501564  0.52419711 -1.07714551 ...  1.13407085 -0.61170894\n",
      "  -0.65550334]]\n"
     ]
    }
   ],
   "source": [
    "print(sklearn_input)"
   ]
  },
  {
   "cell_type": "code",
   "execution_count": 298,
   "id": "563387f9-19e4-4987-8131-4c739ecae377",
   "metadata": {},
   "outputs": [
    {
     "name": "stdout",
     "output_type": "stream",
     "text": [
      "[[-1.34842245 -1.90767935 -1.07714551 ...  1.13407085  0.71880339\n",
      "  -0.65550334]\n",
      " [ 1.10575591  0.52419711  1.60839075 ... -0.53851252  3.37982804\n",
      "   0.93550311]\n",
      " [ 1.21245931  0.52419711 -0.18196676 ... -0.53851252 -0.61170894\n",
      "   0.93550311]\n",
      " ...\n",
      " [-0.17468498  0.52419711 -1.07714551 ...  1.13407085 -0.61170894\n",
      "  -0.65550334]\n",
      " [ 0.67894228 -1.90767935 -1.07714551 ...  1.13407085 -0.61170894\n",
      "  -0.65550334]\n",
      " [ 0.03872184  0.52419711  1.60839075 ... -0.53851252 -0.61170894\n",
      "   0.93550311]]\n"
     ]
    }
   ],
   "source": [
    "print(X_test)"
   ]
  },
  {
   "cell_type": "code",
   "execution_count": 319,
   "id": "a381bafd-4457-4bcc-b06d-0fdbafef2d3b",
   "metadata": {},
   "outputs": [
    {
     "data": {
      "text/plain": [
       "numpy.ndarray"
      ]
     },
     "execution_count": 319,
     "metadata": {},
     "output_type": "execute_result"
    }
   ],
   "source": [
    "#sklearn_input = X_train.reshape(1, -1)\n",
    "type(X_test)"
   ]
  },
  {
   "cell_type": "code",
   "execution_count": 326,
   "id": "e2859eca-08fd-43e2-b147-5d801e34240a",
   "metadata": {},
   "outputs": [],
   "source": [
    "sklearn_input = X_test[[0, 1]] "
   ]
  },
  {
   "cell_type": "code",
   "execution_count": 333,
   "id": "eca07846-a7b6-454e-981e-13470fcc13c1",
   "metadata": {},
   "outputs": [],
   "source": [
    "sklearn_input = X_test[[0]] "
   ]
  },
  {
   "cell_type": "code",
   "execution_count": 334,
   "id": "f372d417-a550-411d-8fd6-239fbdfd1068",
   "metadata": {},
   "outputs": [
    {
     "data": {
      "text/plain": [
       "numpy.ndarray"
      ]
     },
     "execution_count": 334,
     "metadata": {},
     "output_type": "execute_result"
    }
   ],
   "source": [
    "type(sklearn_input)\n"
   ]
  },
  {
   "cell_type": "code",
   "execution_count": 335,
   "id": "8494bfbc-b0d0-4c33-a68c-8880c6cb4a0e",
   "metadata": {},
   "outputs": [
    {
     "name": "stdout",
     "output_type": "stream",
     "text": [
      "[[-1.34842245 -1.90767935 -1.07714551  0.23449254 -1.56429513 -0.98320783\n",
      "  -0.43137471  0.0389366   1.22119053 -0.78619434 -0.7846153   1.13407085\n",
      "   0.71880339 -0.65550334]]\n",
      "<_io.BytesIO object at 0x7f81d7fa0860>\n"
     ]
    }
   ],
   "source": [
    "# works as expected:\n",
    "print(sklearn_input)\n",
    "buffer = io.BytesIO()\n",
    "np.save(buffer, sklearn_input)\n",
    "print(buffer)"
   ]
  },
  {
   "cell_type": "code",
   "execution_count": 336,
   "id": "e3b2dc20-45c1-4431-b938-ac2fa644e8d3",
   "metadata": {},
   "outputs": [],
   "source": [
    "invoke_response = sagemaker_runtime_client.invoke_endpoint(\n",
    "    EndpointName=predictor.endpoint_name,\n",
    "    Body=buffer.getvalue(),\n",
    "    ContentType='application/x-npy',\n",
    "    Accept='application/json'\n",
    ")\n"
   ]
  },
  {
   "cell_type": "code",
   "execution_count": 337,
   "id": "e4325cc2-b1b0-48ab-9118-7ccdfc0653fa",
   "metadata": {},
   "outputs": [],
   "source": [
    "prediction_a = invoke_response['Body'].read()"
   ]
  },
  {
   "cell_type": "code",
   "execution_count": 338,
   "id": "21368c75-2af9-42f4-9f6c-295a9448f871",
   "metadata": {},
   "outputs": [
    {
     "name": "stdout",
     "output_type": "stream",
     "text": [
      "b'[2]'\n"
     ]
    }
   ],
   "source": [
    "print(prediction_a)"
   ]
  },
  {
   "cell_type": "code",
   "execution_count": null,
   "id": "8b2b3513-4bcb-4dbd-8ff7-6e402ca20575",
   "metadata": {},
   "outputs": [],
   "source": []
  }
 ],
 "metadata": {
  "kernelspec": {
   "display_name": "Python 3 (ipykernel)",
   "language": "python",
   "name": "python3"
  },
  "language_info": {
   "codemirror_mode": {
    "name": "ipython",
    "version": 3
   },
   "file_extension": ".py",
   "mimetype": "text/x-python",
   "name": "python",
   "nbconvert_exporter": "python",
   "pygments_lexer": "ipython3",
   "version": "3.11.9"
  }
 },
 "nbformat": 4,
 "nbformat_minor": 5
}
