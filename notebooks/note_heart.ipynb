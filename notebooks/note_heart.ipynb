{
 "cells": [
  {
   "cell_type": "code",
   "execution_count": 2,
   "id": "748b8f3f-c240-4539-a3fc-e08809aef8b5",
   "metadata": {
    "tags": []
   },
   "outputs": [
    {
     "name": "stdout",
     "output_type": "stream",
     "text": [
      "test\n"
     ]
    }
   ],
   "source": [
    "print('test')"
   ]
  },
  {
   "cell_type": "code",
   "execution_count": 3,
   "id": "18999461-dcc7-428b-a1fb-a99cdd144c5d",
   "metadata": {
    "tags": []
   },
   "outputs": [],
   "source": [
    "# Set the base directory for the project\n",
    "base_dir = \"/opt/ml/processing\""
   ]
  },
  {
   "cell_type": "code",
   "execution_count": 4,
   "id": "4fb7f294-0971-45a9-9faa-09c63f34b5c4",
   "metadata": {
    "tags": []
   },
   "outputs": [],
   "source": [
    "# Create the necessary directories for the project \n",
    "%mkdir -p {base_dir}/train/\n",
    "%mkdir -p {base_dir}/validation/\n",
    "%mkdir -p {base_dir}/test/\n",
    "%mkdir -p {base_dir}/modeldata/"
   ]
  },
  {
   "cell_type": "code",
   "execution_count": 5,
   "id": "fd2714ff-7b5f-4ae4-bb27-d43d3ef81c73",
   "metadata": {
    "tags": []
   },
   "outputs": [
    {
     "name": "stdout",
     "output_type": "stream",
     "text": [
      "Collecting lightgbm\n",
      "  Using cached lightgbm-4.5.0-py3-none-manylinux_2_28_x86_64.whl.metadata (17 kB)\n",
      "Requirement already satisfied: numpy>=1.17.0 in /opt/conda/lib/python3.10/site-packages (from lightgbm) (1.26.4)\n",
      "Requirement already satisfied: scipy in /opt/conda/lib/python3.10/site-packages (from lightgbm) (1.13.0)\n",
      "Using cached lightgbm-4.5.0-py3-none-manylinux_2_28_x86_64.whl (3.6 MB)\n",
      "Installing collected packages: lightgbm\n",
      "Successfully installed lightgbm-4.5.0\n",
      "\u001b[33mWARNING: Running pip as the 'root' user can result in broken permissions and conflicting behaviour with the system package manager. It is recommended to use a virtual environment instead: https://pip.pypa.io/warnings/venv\u001b[0m\u001b[33m\n",
      "\u001b[0mNote: you may need to restart the kernel to use updated packages.\n"
     ]
    }
   ],
   "source": [
    "# Install the LightGBM library\n",
    "# LightGBM is a gradient boosting framework that uses tree-based learning algorithms\n",
    "%pip install lightgbm"
   ]
  },
  {
   "cell_type": "code",
   "execution_count": 29,
   "id": "56b45e2d-ceeb-42c5-ba5c-3a56392c17e2",
   "metadata": {
    "tags": []
   },
   "outputs": [],
   "source": [
    "# Import the necessary libraries and modules for the project\n",
    "import datetime;\n",
    "\n",
    "import argparse\n",
    "import logging\n",
    "import pathlib\n",
    "\n",
    "import boto3\n",
    "import numpy as np\n",
    "import pandas as pd\n",
    "import numpy as np"
   ]
  },
  {
   "cell_type": "code",
   "execution_count": 32,
   "id": "925a13ff-eeae-4911-8ba8-c839b0d09150",
   "metadata": {
    "tags": []
   },
   "outputs": [],
   "source": [
    "#Import commonly used machine learning libraries for data preprocessing and model selection.\n",
    "from lightgbm import LGBMRegressor, LGBMClassifier\n",
    "from sklearn.preprocessing import StandardScaler, MinMaxScaler, LabelEncoder\n",
    "from sklearn.impute import SimpleImputer, KNNImputer\n",
    "from sklearn.model_selection import train_test_split, GridSearchCV, cross_val_score, RandomizedSearchCV\n",
    "from sklearn.metrics import accuracy_score"
   ]
  },
  {
   "cell_type": "code",
   "execution_count": 8,
   "id": "578a24d8-aa1a-486f-a963-500070e600b9",
   "metadata": {
    "tags": []
   },
   "outputs": [
    {
     "name": "stdout",
     "output_type": "stream",
     "text": [
      "2024-10-28-2147\n"
     ]
    }
   ],
   "source": [
    "# Get the current date and time and format it as a string\n",
    "datenow = datetime.datetime.now().strftime(\"%Y-%m-%d-%H%M\")\n",
    "print(datenow)"
   ]
  },
  {
   "cell_type": "code",
   "execution_count": 10,
   "id": "2b8c62a7-4ef4-4a53-abd7-7f7f7dcd3ff1",
   "metadata": {
    "tags": []
   },
   "outputs": [],
   "source": [
    "# Set main variables for the EDA\n",
    "base_dir = \"/opt/ml/processing\"\n",
    "default_bucket = 'z-tmp-tfc'\n",
    "input_data = f\"s3://{default_bucket}/data/heart_disease_uci.csv\"  # Change this to point to the s3 location of your raw input data.\n",
    "bucket = input_data.split(\"/\")[2]\n",
    "key = \"/\".join(input_data.split(\"/\")[3:])\n",
    "fn = f\"{base_dir}/data/heart_disease_uci.csv\"\n",
    "#print(input_data)"
   ]
  },
  {
   "cell_type": "code",
   "execution_count": 11,
   "id": "6040dc60-d9e6-470e-ab72-8eed1fbabd5a",
   "metadata": {
    "tags": []
   },
   "outputs": [],
   "source": [
    "# Creates the data directory if it doesn't exist, and downloads data from S3 to the local machine.\n",
    "pathlib.Path(f\"{base_dir}/data\").mkdir(parents=True, exist_ok=True)\n",
    "s3 = boto3.resource(\"s3\")\n",
    "s3.Bucket(bucket).download_file(key, fn)"
   ]
  },
  {
   "cell_type": "code",
   "execution_count": 9,
   "id": "c42478fd-3624-4bfe-b8c2-b9639100b09b",
   "metadata": {
    "tags": []
   },
   "outputs": [],
   "source": [
    "# Begin The EDA "
   ]
  },
  {
   "cell_type": "code",
   "execution_count": 12,
   "id": "ab34a6d9-6841-4eaf-85c3-4bdb19054f0e",
   "metadata": {
    "tags": []
   },
   "outputs": [],
   "source": [
    "# read in csv\n",
    "df = pd.read_csv(fn)"
   ]
  },
  {
   "cell_type": "code",
   "execution_count": null,
   "id": "e5783dc5-7b6a-4f0e-b74b-620ba3a95138",
   "metadata": {},
   "outputs": [],
   "source": [
    "# Displays sample of the DataFrame."
   ]
  },
  {
   "cell_type": "code",
   "execution_count": 13,
   "id": "5239ea8d-8d4c-4ab5-9cf6-a6292bd51703",
   "metadata": {
    "tags": []
   },
   "outputs": [
    {
     "data": {
      "text/html": [
       "<div>\n",
       "<style scoped>\n",
       "    .dataframe tbody tr th:only-of-type {\n",
       "        vertical-align: middle;\n",
       "    }\n",
       "\n",
       "    .dataframe tbody tr th {\n",
       "        vertical-align: top;\n",
       "    }\n",
       "\n",
       "    .dataframe thead th {\n",
       "        text-align: right;\n",
       "    }\n",
       "</style>\n",
       "<table border=\"1\" class=\"dataframe\">\n",
       "  <thead>\n",
       "    <tr style=\"text-align: right;\">\n",
       "      <th></th>\n",
       "      <th>id</th>\n",
       "      <th>age</th>\n",
       "      <th>sex</th>\n",
       "      <th>dataset</th>\n",
       "      <th>cp</th>\n",
       "      <th>trestbps</th>\n",
       "      <th>chol</th>\n",
       "      <th>fbs</th>\n",
       "      <th>restecg</th>\n",
       "      <th>thalch</th>\n",
       "      <th>exang</th>\n",
       "      <th>oldpeak</th>\n",
       "      <th>slope</th>\n",
       "      <th>ca</th>\n",
       "      <th>thal</th>\n",
       "      <th>num</th>\n",
       "    </tr>\n",
       "  </thead>\n",
       "  <tbody>\n",
       "    <tr>\n",
       "      <th>0</th>\n",
       "      <td>1</td>\n",
       "      <td>63</td>\n",
       "      <td>Male</td>\n",
       "      <td>Cleveland</td>\n",
       "      <td>typical angina</td>\n",
       "      <td>145.0</td>\n",
       "      <td>233.0</td>\n",
       "      <td>True</td>\n",
       "      <td>lv hypertrophy</td>\n",
       "      <td>150.0</td>\n",
       "      <td>False</td>\n",
       "      <td>2.3</td>\n",
       "      <td>downsloping</td>\n",
       "      <td>0.0</td>\n",
       "      <td>fixed defect</td>\n",
       "      <td>0</td>\n",
       "    </tr>\n",
       "    <tr>\n",
       "      <th>1</th>\n",
       "      <td>2</td>\n",
       "      <td>67</td>\n",
       "      <td>Male</td>\n",
       "      <td>Cleveland</td>\n",
       "      <td>asymptomatic</td>\n",
       "      <td>160.0</td>\n",
       "      <td>286.0</td>\n",
       "      <td>False</td>\n",
       "      <td>lv hypertrophy</td>\n",
       "      <td>108.0</td>\n",
       "      <td>True</td>\n",
       "      <td>1.5</td>\n",
       "      <td>flat</td>\n",
       "      <td>3.0</td>\n",
       "      <td>normal</td>\n",
       "      <td>2</td>\n",
       "    </tr>\n",
       "    <tr>\n",
       "      <th>2</th>\n",
       "      <td>3</td>\n",
       "      <td>67</td>\n",
       "      <td>Male</td>\n",
       "      <td>Cleveland</td>\n",
       "      <td>asymptomatic</td>\n",
       "      <td>120.0</td>\n",
       "      <td>229.0</td>\n",
       "      <td>False</td>\n",
       "      <td>lv hypertrophy</td>\n",
       "      <td>129.0</td>\n",
       "      <td>True</td>\n",
       "      <td>2.6</td>\n",
       "      <td>flat</td>\n",
       "      <td>2.0</td>\n",
       "      <td>reversable defect</td>\n",
       "      <td>1</td>\n",
       "    </tr>\n",
       "    <tr>\n",
       "      <th>3</th>\n",
       "      <td>4</td>\n",
       "      <td>37</td>\n",
       "      <td>Male</td>\n",
       "      <td>Cleveland</td>\n",
       "      <td>non-anginal</td>\n",
       "      <td>130.0</td>\n",
       "      <td>250.0</td>\n",
       "      <td>False</td>\n",
       "      <td>normal</td>\n",
       "      <td>187.0</td>\n",
       "      <td>False</td>\n",
       "      <td>3.5</td>\n",
       "      <td>downsloping</td>\n",
       "      <td>0.0</td>\n",
       "      <td>normal</td>\n",
       "      <td>0</td>\n",
       "    </tr>\n",
       "    <tr>\n",
       "      <th>4</th>\n",
       "      <td>5</td>\n",
       "      <td>41</td>\n",
       "      <td>Female</td>\n",
       "      <td>Cleveland</td>\n",
       "      <td>atypical angina</td>\n",
       "      <td>130.0</td>\n",
       "      <td>204.0</td>\n",
       "      <td>False</td>\n",
       "      <td>lv hypertrophy</td>\n",
       "      <td>172.0</td>\n",
       "      <td>False</td>\n",
       "      <td>1.4</td>\n",
       "      <td>upsloping</td>\n",
       "      <td>0.0</td>\n",
       "      <td>normal</td>\n",
       "      <td>0</td>\n",
       "    </tr>\n",
       "  </tbody>\n",
       "</table>\n",
       "</div>"
      ],
      "text/plain": [
       "   id  age     sex    dataset               cp  trestbps   chol    fbs  \\\n",
       "0   1   63    Male  Cleveland   typical angina     145.0  233.0   True   \n",
       "1   2   67    Male  Cleveland     asymptomatic     160.0  286.0  False   \n",
       "2   3   67    Male  Cleveland     asymptomatic     120.0  229.0  False   \n",
       "3   4   37    Male  Cleveland      non-anginal     130.0  250.0  False   \n",
       "4   5   41  Female  Cleveland  atypical angina     130.0  204.0  False   \n",
       "\n",
       "          restecg  thalch  exang  oldpeak        slope   ca  \\\n",
       "0  lv hypertrophy   150.0  False      2.3  downsloping  0.0   \n",
       "1  lv hypertrophy   108.0   True      1.5         flat  3.0   \n",
       "2  lv hypertrophy   129.0   True      2.6         flat  2.0   \n",
       "3          normal   187.0  False      3.5  downsloping  0.0   \n",
       "4  lv hypertrophy   172.0  False      1.4    upsloping  0.0   \n",
       "\n",
       "                thal  num  \n",
       "0       fixed defect    0  \n",
       "1             normal    2  \n",
       "2  reversable defect    1  \n",
       "3             normal    0  \n",
       "4             normal    0  "
      ]
     },
     "execution_count": 13,
     "metadata": {},
     "output_type": "execute_result"
    }
   ],
   "source": [
    "df.head()"
   ]
  },
  {
   "cell_type": "code",
   "execution_count": 15,
   "id": "8c98ee8b-9e95-4194-810c-64e275b8e391",
   "metadata": {
    "tags": []
   },
   "outputs": [],
   "source": [
    "# Removes the 'id' column from the DataFrame\n",
    "df.drop('id', axis=1, inplace=True)    "
   ]
  },
  {
   "cell_type": "code",
   "execution_count": 16,
   "id": "86a37183-ee88-45ea-a266-bfb66973513a",
   "metadata": {
    "tags": []
   },
   "outputs": [],
   "source": [
    "# replace zero values with NaN in cholestrol column\n",
    "df['chol'] = df['chol'].replace(0, np.NaN)"
   ]
  },
  {
   "cell_type": "code",
   "execution_count": 18,
   "id": "de14d2e0-a03b-48a1-a46e-34f7764fe9aa",
   "metadata": {
    "tags": []
   },
   "outputs": [],
   "source": [
    "# encode the data using label encoding\n",
    "from sklearn.preprocessing import LabelEncoder\n",
    "\n",
    "columns_to_encode = ['sex', 'dataset', 'cp', 'thal', 'slope', 'exang', 'restecg', 'fbs']\n",
    "num_cols = [col for col in df.select_dtypes(exclude='O')]\n",
    "\n",
    "label_encoders = {}\n",
    "data = df.copy()\n",
    "index = {}\n",
    "\n",
    "for colm in columns_to_encode:\n",
    "    nan_ixs = np.where(data[colm].isna())[0]\n",
    "    index[colm] = nan_ixs"
   ]
  },
  {
   "cell_type": "code",
   "execution_count": 21,
   "id": "32fb5a51-dbd4-4c27-ad1d-a6cc7ab87776",
   "metadata": {
    "tags": []
   },
   "outputs": [
    {
     "data": {
      "text/plain": [
       "['trestbps', 'chol', 'thalch', 'oldpeak', 'ca']"
      ]
     },
     "execution_count": 21,
     "metadata": {},
     "output_type": "execute_result"
    }
   ],
   "source": [
    "#Identify numeric and categorical columns with missing values in the DataFrame.\n",
    "cols_with_nans = [x for x in df if df[x].isnull().sum() > 0]\n",
    "num = [col for col in df[cols_with_nans].select_dtypes(exclude='O')]\n",
    "cat = [col for col in df[cols_with_nans].select_dtypes(include='O')]\n",
    "num"
   ]
  },
  {
   "cell_type": "code",
   "execution_count": 27,
   "id": "e30ca405-87c7-4769-9b15-c4904917bbb5",
   "metadata": {
    "tags": []
   },
   "outputs": [],
   "source": [
    "#Numeric columns\n",
    "numeri_cols = ['trestbps', 'chol', 'thalch', 'oldpeak']"
   ]
  },
  {
   "cell_type": "code",
   "execution_count": 22,
   "id": "4289ac6f-e9cf-4c2a-8012-43cdc21b901e",
   "metadata": {
    "tags": []
   },
   "outputs": [],
   "source": [
    "# Apply Encode categorical columns, store label encoders, and replace encoded values with NaNs.\n",
    "# The entire data set must be represented by numbers\n",
    "for col in columns_to_encode:\n",
    "    le = LabelEncoder()\n",
    "    df[col] = le.fit_transform(df[col])\n",
    "\n",
    "    label_encoders[col] = le\n",
    "\n",
    "    for col, idxs in index.items():\n",
    "        df.loc[idxs, col] = np.nan"
   ]
  },
  {
   "cell_type": "code",
   "execution_count": 23,
   "id": "f226e6d1-3f3e-4714-b245-3b9d2cc901ac",
   "metadata": {
    "tags": []
   },
   "outputs": [
    {
     "data": {
      "text/html": [
       "<div>\n",
       "<style scoped>\n",
       "    .dataframe tbody tr th:only-of-type {\n",
       "        vertical-align: middle;\n",
       "    }\n",
       "\n",
       "    .dataframe tbody tr th {\n",
       "        vertical-align: top;\n",
       "    }\n",
       "\n",
       "    .dataframe thead th {\n",
       "        text-align: right;\n",
       "    }\n",
       "</style>\n",
       "<table border=\"1\" class=\"dataframe\">\n",
       "  <thead>\n",
       "    <tr style=\"text-align: right;\">\n",
       "      <th></th>\n",
       "      <th>age</th>\n",
       "      <th>sex</th>\n",
       "      <th>dataset</th>\n",
       "      <th>cp</th>\n",
       "      <th>trestbps</th>\n",
       "      <th>chol</th>\n",
       "      <th>fbs</th>\n",
       "      <th>restecg</th>\n",
       "      <th>thalch</th>\n",
       "      <th>exang</th>\n",
       "      <th>oldpeak</th>\n",
       "      <th>slope</th>\n",
       "      <th>ca</th>\n",
       "      <th>thal</th>\n",
       "      <th>num</th>\n",
       "    </tr>\n",
       "  </thead>\n",
       "  <tbody>\n",
       "    <tr>\n",
       "      <th>0</th>\n",
       "      <td>63</td>\n",
       "      <td>1</td>\n",
       "      <td>0</td>\n",
       "      <td>3</td>\n",
       "      <td>145.0</td>\n",
       "      <td>233.0</td>\n",
       "      <td>1.0</td>\n",
       "      <td>0.0</td>\n",
       "      <td>150.0</td>\n",
       "      <td>0.0</td>\n",
       "      <td>2.3</td>\n",
       "      <td>0.0</td>\n",
       "      <td>0.0</td>\n",
       "      <td>0.0</td>\n",
       "      <td>0</td>\n",
       "    </tr>\n",
       "    <tr>\n",
       "      <th>1</th>\n",
       "      <td>67</td>\n",
       "      <td>1</td>\n",
       "      <td>0</td>\n",
       "      <td>0</td>\n",
       "      <td>160.0</td>\n",
       "      <td>286.0</td>\n",
       "      <td>0.0</td>\n",
       "      <td>0.0</td>\n",
       "      <td>108.0</td>\n",
       "      <td>1.0</td>\n",
       "      <td>1.5</td>\n",
       "      <td>1.0</td>\n",
       "      <td>3.0</td>\n",
       "      <td>1.0</td>\n",
       "      <td>2</td>\n",
       "    </tr>\n",
       "    <tr>\n",
       "      <th>2</th>\n",
       "      <td>67</td>\n",
       "      <td>1</td>\n",
       "      <td>0</td>\n",
       "      <td>0</td>\n",
       "      <td>120.0</td>\n",
       "      <td>229.0</td>\n",
       "      <td>0.0</td>\n",
       "      <td>0.0</td>\n",
       "      <td>129.0</td>\n",
       "      <td>1.0</td>\n",
       "      <td>2.6</td>\n",
       "      <td>1.0</td>\n",
       "      <td>2.0</td>\n",
       "      <td>2.0</td>\n",
       "      <td>1</td>\n",
       "    </tr>\n",
       "    <tr>\n",
       "      <th>3</th>\n",
       "      <td>37</td>\n",
       "      <td>1</td>\n",
       "      <td>0</td>\n",
       "      <td>2</td>\n",
       "      <td>130.0</td>\n",
       "      <td>250.0</td>\n",
       "      <td>0.0</td>\n",
       "      <td>1.0</td>\n",
       "      <td>187.0</td>\n",
       "      <td>0.0</td>\n",
       "      <td>3.5</td>\n",
       "      <td>0.0</td>\n",
       "      <td>0.0</td>\n",
       "      <td>1.0</td>\n",
       "      <td>0</td>\n",
       "    </tr>\n",
       "    <tr>\n",
       "      <th>4</th>\n",
       "      <td>41</td>\n",
       "      <td>0</td>\n",
       "      <td>0</td>\n",
       "      <td>1</td>\n",
       "      <td>130.0</td>\n",
       "      <td>204.0</td>\n",
       "      <td>0.0</td>\n",
       "      <td>0.0</td>\n",
       "      <td>172.0</td>\n",
       "      <td>0.0</td>\n",
       "      <td>1.4</td>\n",
       "      <td>2.0</td>\n",
       "      <td>0.0</td>\n",
       "      <td>1.0</td>\n",
       "      <td>0</td>\n",
       "    </tr>\n",
       "  </tbody>\n",
       "</table>\n",
       "</div>"
      ],
      "text/plain": [
       "   age  sex  dataset  cp  trestbps   chol  fbs  restecg  thalch  exang  \\\n",
       "0   63    1        0   3     145.0  233.0  1.0      0.0   150.0    0.0   \n",
       "1   67    1        0   0     160.0  286.0  0.0      0.0   108.0    1.0   \n",
       "2   67    1        0   0     120.0  229.0  0.0      0.0   129.0    1.0   \n",
       "3   37    1        0   2     130.0  250.0  0.0      1.0   187.0    0.0   \n",
       "4   41    0        0   1     130.0  204.0  0.0      0.0   172.0    0.0   \n",
       "\n",
       "   oldpeak  slope   ca  thal  num  \n",
       "0      2.3    0.0  0.0   0.0    0  \n",
       "1      1.5    1.0  3.0   1.0    2  \n",
       "2      2.6    1.0  2.0   2.0    1  \n",
       "3      3.5    0.0  0.0   1.0    0  \n",
       "4      1.4    2.0  0.0   1.0    0  "
      ]
     },
     "execution_count": 23,
     "metadata": {},
     "output_type": "execute_result"
    }
   ],
   "source": [
    "df.head()"
   ]
  },
  {
   "cell_type": "code",
   "execution_count": 24,
   "id": "26f6b7f1-b72f-4a2d-9821-215d156063c1",
   "metadata": {
    "tags": []
   },
   "outputs": [],
   "source": [
    "#List of categorical columns in the DataFrame.\n",
    "categ_cols = ['fbs', 'restecg', 'exang', 'slope', 'thal', 'ca']"
   ]
  },
  {
   "cell_type": "code",
   "execution_count": 31,
   "id": "73f3d3ec-fc6b-41fc-85e6-3fe82f6aa514",
   "metadata": {
    "tags": []
   },
   "outputs": [
    {
     "name": "stdout",
     "output_type": "stream",
     "text": [
      "Missing Values trestbps : 6.41%\n"
     ]
    },
    {
     "name": "stderr",
     "output_type": "stream",
     "text": [
      "/tmp/ipykernel_1461/3011436372.py:34: SettingWithCopyWarning: \n",
      "A value is trying to be set on a copy of a slice from a DataFrame.\n",
      "Try using .loc[row_indexer,col_indexer] = value instead\n",
      "\n",
      "See the caveats in the documentation: https://pandas.pydata.org/pandas-docs/stable/user_guide/indexing.html#returning-a-view-versus-a-copy\n",
      "  df_with_missing[col] = y_pred\n"
     ]
    },
    {
     "name": "stdout",
     "output_type": "stream",
     "text": [
      "Missing Values chol : 21.96%\n"
     ]
    },
    {
     "name": "stderr",
     "output_type": "stream",
     "text": [
      "/tmp/ipykernel_1461/3011436372.py:34: SettingWithCopyWarning: \n",
      "A value is trying to be set on a copy of a slice from a DataFrame.\n",
      "Try using .loc[row_indexer,col_indexer] = value instead\n",
      "\n",
      "See the caveats in the documentation: https://pandas.pydata.org/pandas-docs/stable/user_guide/indexing.html#returning-a-view-versus-a-copy\n",
      "  df_with_missing[col] = y_pred\n"
     ]
    },
    {
     "name": "stdout",
     "output_type": "stream",
     "text": [
      "Missing Values thalch : 5.98%\n"
     ]
    },
    {
     "name": "stderr",
     "output_type": "stream",
     "text": [
      "/tmp/ipykernel_1461/3011436372.py:34: SettingWithCopyWarning: \n",
      "A value is trying to be set on a copy of a slice from a DataFrame.\n",
      "Try using .loc[row_indexer,col_indexer] = value instead\n",
      "\n",
      "See the caveats in the documentation: https://pandas.pydata.org/pandas-docs/stable/user_guide/indexing.html#returning-a-view-versus-a-copy\n",
      "  df_with_missing[col] = y_pred\n"
     ]
    },
    {
     "name": "stdout",
     "output_type": "stream",
     "text": [
      "Missing Values oldpeak : 6.74%\n"
     ]
    },
    {
     "name": "stderr",
     "output_type": "stream",
     "text": [
      "/tmp/ipykernel_1461/3011436372.py:34: SettingWithCopyWarning: \n",
      "A value is trying to be set on a copy of a slice from a DataFrame.\n",
      "Try using .loc[row_indexer,col_indexer] = value instead\n",
      "\n",
      "See the caveats in the documentation: https://pandas.pydata.org/pandas-docs/stable/user_guide/indexing.html#returning-a-view-versus-a-copy\n",
      "  df_with_missing[col] = y_pred\n"
     ]
    }
   ],
   "source": [
    "#Impute missing values in numeric columns using a LightGBM regression model.\n",
    "#from sklearn.preprocessing import MinMaxScaler\n",
    "for col in numeri_cols:\n",
    "\n",
    "    df_with_missing = df[df[col].isna()]\n",
    "    # dropna removes all rows with missing values\n",
    "    df_without_missing = df[df[col].notna()]\n",
    "\n",
    "    # split the data into X and y and we will only take the columns with no missing values\n",
    "    X = df_without_missing.drop([col], axis=1)\n",
    "    y = df_without_missing[col]\n",
    "\n",
    "    # split the data into train and test sets\n",
    "    X_train, X_test, y_train, y_test = train_test_split(X, y, test_size=0.20, random_state=42)\n",
    "\n",
    "    # Random Forest Imputation\n",
    "    rf_model = LGBMRegressor(\n",
    "        objective = \"regression\",\n",
    "        metric = \"rmse\",\n",
    "        n_estimators =  1000,\n",
    "        bagging_freq = 1,subsample = 0.413103572972995, \n",
    "                             colsample_bytree = 0.5816717344110182,\n",
    "                             min_data_in_leaf = 20,\n",
    "                             learning_rate = 0.004730072022055302,\n",
    "                             num_leaves = 364, verbose = -1 ,random_state=42)\n",
    "    rf_model.fit(X_train, y_train)\n",
    "\n",
    "    # evaluate the model\n",
    "    y_preds = rf_model.predict(X_test)\n",
    "    print(\"Missing Values\", col, \":\", str(round((df[col].isnull().sum() / len(df)) * 100, 2))+\"%\")\n",
    "\n",
    "    #Apply the trained model to predict missing values\n",
    "    y_pred = np.round(rf_model.predict(df_with_missing.drop([col], axis=1)))\n",
    "    df_with_missing[col] = y_pred\n",
    "\n",
    "    #concatenate the imputed DataFrame.\n",
    "    df = pd.concat([df_with_missing, df_without_missing], axis=0)\n"
   ]
  },
  {
   "cell_type": "code",
   "execution_count": 33,
   "id": "1c5dd3e5-5c20-4917-939a-936bb87b13a6",
   "metadata": {
    "tags": []
   },
   "outputs": [
    {
     "name": "stdout",
     "output_type": "stream",
     "text": [
      "The feature 'fbs' has been imputed with 82.53 accuracy\n",
      "\n",
      "The feature 'restecg' has been imputed with 64.67 accuracy\n",
      "\n",
      "The feature 'exang' has been imputed with 80.92 accuracy\n",
      "\n"
     ]
    },
    {
     "name": "stderr",
     "output_type": "stream",
     "text": [
      "/tmp/ipykernel_1461/240859716.py:26: SettingWithCopyWarning: \n",
      "A value is trying to be set on a copy of a slice from a DataFrame.\n",
      "Try using .loc[row_indexer,col_indexer] = value instead\n",
      "\n",
      "See the caveats in the documentation: https://pandas.pydata.org/pandas-docs/stable/user_guide/indexing.html#returning-a-view-versus-a-copy\n",
      "  df_with_missing[col] = y_pred\n",
      "/tmp/ipykernel_1461/240859716.py:26: SettingWithCopyWarning: \n",
      "A value is trying to be set on a copy of a slice from a DataFrame.\n",
      "Try using .loc[row_indexer,col_indexer] = value instead\n",
      "\n",
      "See the caveats in the documentation: https://pandas.pydata.org/pandas-docs/stable/user_guide/indexing.html#returning-a-view-versus-a-copy\n",
      "  df_with_missing[col] = y_pred\n",
      "/tmp/ipykernel_1461/240859716.py:26: SettingWithCopyWarning: \n",
      "A value is trying to be set on a copy of a slice from a DataFrame.\n",
      "Try using .loc[row_indexer,col_indexer] = value instead\n",
      "\n",
      "See the caveats in the documentation: https://pandas.pydata.org/pandas-docs/stable/user_guide/indexing.html#returning-a-view-versus-a-copy\n",
      "  df_with_missing[col] = y_pred\n"
     ]
    },
    {
     "name": "stdout",
     "output_type": "stream",
     "text": [
      "The feature 'slope' has been imputed with 62.6 accuracy\n",
      "\n",
      "The feature 'thal' has been imputed with 72.41 accuracy\n",
      "\n",
      "The feature 'ca' has been imputed with 50.0 accuracy\n",
      "\n"
     ]
    },
    {
     "name": "stderr",
     "output_type": "stream",
     "text": [
      "/tmp/ipykernel_1461/240859716.py:26: SettingWithCopyWarning: \n",
      "A value is trying to be set on a copy of a slice from a DataFrame.\n",
      "Try using .loc[row_indexer,col_indexer] = value instead\n",
      "\n",
      "See the caveats in the documentation: https://pandas.pydata.org/pandas-docs/stable/user_guide/indexing.html#returning-a-view-versus-a-copy\n",
      "  df_with_missing[col] = y_pred\n",
      "/tmp/ipykernel_1461/240859716.py:26: SettingWithCopyWarning: \n",
      "A value is trying to be set on a copy of a slice from a DataFrame.\n",
      "Try using .loc[row_indexer,col_indexer] = value instead\n",
      "\n",
      "See the caveats in the documentation: https://pandas.pydata.org/pandas-docs/stable/user_guide/indexing.html#returning-a-view-versus-a-copy\n",
      "  df_with_missing[col] = y_pred\n",
      "/tmp/ipykernel_1461/240859716.py:26: SettingWithCopyWarning: \n",
      "A value is trying to be set on a copy of a slice from a DataFrame.\n",
      "Try using .loc[row_indexer,col_indexer] = value instead\n",
      "\n",
      "See the caveats in the documentation: https://pandas.pydata.org/pandas-docs/stable/user_guide/indexing.html#returning-a-view-versus-a-copy\n",
      "  df_with_missing[col] = y_pred\n"
     ]
    }
   ],
   "source": [
    "#Impute missing values in categorical columns using a LightGBM model and evaluate the accuracy.\n",
    "for col in categ_cols: \n",
    "    df_with_missing = df[df[col].isna()]\n",
    "    # dropna removes all rows with missing values\n",
    "    # df_without_missing = df.dropna()\n",
    "    df_without_missing = df[df[col].notna()]\n",
    "\n",
    "    # split the data into X and y and we will only take the columns with no missing values\n",
    "    X = df_without_missing.drop([col], axis=1)\n",
    "    y = df_without_missing[col]\n",
    "\n",
    "    # split the data into train and test sets\n",
    "    X_train, X_test, y_train, y_test = train_test_split(X, y, test_size=0.20, random_state=42)\n",
    "\n",
    "    # Random Forest Imputation\n",
    "    rf_model = LGBMClassifier(verbose = -1,learning_rate = 0.023021779601797816, num_leaves = 149, subsample = 0.6929884706542179, colsample_bytree = 0.8635308367372507, min_data_in_leaf = 47, random_state=42)\n",
    "    rf_model.fit(X_train, y_train)\n",
    "\n",
    "    # evaluate the model\n",
    "    y_preds = rf_model.predict(X_test)\n",
    "    y_pred = rf_model.predict(df_with_missing.drop([col], axis=1))\n",
    "    acc_score = accuracy_score(y_test, y_preds)\n",
    "\n",
    "    # print result\n",
    "    print(\"The feature '\"+ col+ \"' has been imputed with\", round((acc_score * 100), 2), \"accuracy\\n\")\n",
    "    df_with_missing[col] = y_pred\n",
    "    \n",
    "    # apply the predicted values to the missing data.\n",
    "    df = pd.concat([df_with_missing, df_without_missing], axis=0)"
   ]
  },
  {
   "cell_type": "code",
   "execution_count": 34,
   "id": "ba8fca32-67d4-44a5-a8af-3199238c2282",
   "metadata": {
    "tags": []
   },
   "outputs": [],
   "source": [
    "#Convert the encoded categorical columns to integer data type.\n",
    "for i in columns_to_encode:\n",
    "    df[i] = df[i].astype(int)"
   ]
  },
  {
   "cell_type": "code",
   "execution_count": 36,
   "id": "be76c8a4-1213-4e53-b470-f8b50a8b6bd8",
   "metadata": {
    "tags": []
   },
   "outputs": [
    {
     "data": {
      "text/plain": [
       "age           int64\n",
       "sex           int64\n",
       "dataset       int64\n",
       "cp            int64\n",
       "trestbps    float64\n",
       "chol        float64\n",
       "fbs           int64\n",
       "restecg       int64\n",
       "thalch      float64\n",
       "exang         int64\n",
       "oldpeak     float64\n",
       "slope         int64\n",
       "ca          float64\n",
       "thal          int64\n",
       "num           int64\n",
       "dtype: object"
      ]
     },
     "execution_count": 36,
     "metadata": {},
     "output_type": "execute_result"
    }
   ],
   "source": [
    "df.dtypes"
   ]
  },
  {
   "cell_type": "code",
   "execution_count": 37,
   "id": "8c016bad-e6b6-4100-9f60-cf527fba101e",
   "metadata": {
    "tags": []
   },
   "outputs": [
    {
     "data": {
      "text/html": [
       "<div>\n",
       "<style scoped>\n",
       "    .dataframe tbody tr th:only-of-type {\n",
       "        vertical-align: middle;\n",
       "    }\n",
       "\n",
       "    .dataframe tbody tr th {\n",
       "        vertical-align: top;\n",
       "    }\n",
       "\n",
       "    .dataframe thead th {\n",
       "        text-align: right;\n",
       "    }\n",
       "</style>\n",
       "<table border=\"1\" class=\"dataframe\">\n",
       "  <thead>\n",
       "    <tr style=\"text-align: right;\">\n",
       "      <th></th>\n",
       "      <th>age</th>\n",
       "      <th>sex</th>\n",
       "      <th>dataset</th>\n",
       "      <th>cp</th>\n",
       "      <th>trestbps</th>\n",
       "      <th>chol</th>\n",
       "      <th>fbs</th>\n",
       "      <th>restecg</th>\n",
       "      <th>thalch</th>\n",
       "      <th>exang</th>\n",
       "      <th>oldpeak</th>\n",
       "      <th>slope</th>\n",
       "      <th>ca</th>\n",
       "      <th>thal</th>\n",
       "      <th>num</th>\n",
       "    </tr>\n",
       "  </thead>\n",
       "  <tbody>\n",
       "    <tr>\n",
       "      <th>733</th>\n",
       "      <td>63</td>\n",
       "      <td>1</td>\n",
       "      <td>3</td>\n",
       "      <td>2</td>\n",
       "      <td>136.0</td>\n",
       "      <td>253.0</td>\n",
       "      <td>0</td>\n",
       "      <td>0</td>\n",
       "      <td>128.0</td>\n",
       "      <td>0</td>\n",
       "      <td>0.0</td>\n",
       "      <td>1</td>\n",
       "      <td>1.0</td>\n",
       "      <td>1</td>\n",
       "      <td>1</td>\n",
       "    </tr>\n",
       "    <tr>\n",
       "      <th>743</th>\n",
       "      <td>74</td>\n",
       "      <td>1</td>\n",
       "      <td>3</td>\n",
       "      <td>2</td>\n",
       "      <td>136.0</td>\n",
       "      <td>246.0</td>\n",
       "      <td>0</td>\n",
       "      <td>1</td>\n",
       "      <td>129.0</td>\n",
       "      <td>0</td>\n",
       "      <td>0.0</td>\n",
       "      <td>1</td>\n",
       "      <td>0.0</td>\n",
       "      <td>1</td>\n",
       "      <td>0</td>\n",
       "    </tr>\n",
       "    <tr>\n",
       "      <th>746</th>\n",
       "      <td>51</td>\n",
       "      <td>1</td>\n",
       "      <td>3</td>\n",
       "      <td>0</td>\n",
       "      <td>135.0</td>\n",
       "      <td>258.0</td>\n",
       "      <td>1</td>\n",
       "      <td>2</td>\n",
       "      <td>131.0</td>\n",
       "      <td>1</td>\n",
       "      <td>1.0</td>\n",
       "      <td>1</td>\n",
       "      <td>1.0</td>\n",
       "      <td>2</td>\n",
       "      <td>2</td>\n",
       "    </tr>\n",
       "    <tr>\n",
       "      <th>750</th>\n",
       "      <td>54</td>\n",
       "      <td>1</td>\n",
       "      <td>3</td>\n",
       "      <td>0</td>\n",
       "      <td>132.0</td>\n",
       "      <td>247.0</td>\n",
       "      <td>0</td>\n",
       "      <td>2</td>\n",
       "      <td>121.0</td>\n",
       "      <td>1</td>\n",
       "      <td>1.0</td>\n",
       "      <td>1</td>\n",
       "      <td>1.0</td>\n",
       "      <td>2</td>\n",
       "      <td>3</td>\n",
       "    </tr>\n",
       "    <tr>\n",
       "      <th>771</th>\n",
       "      <td>63</td>\n",
       "      <td>0</td>\n",
       "      <td>3</td>\n",
       "      <td>1</td>\n",
       "      <td>136.0</td>\n",
       "      <td>255.0</td>\n",
       "      <td>0</td>\n",
       "      <td>1</td>\n",
       "      <td>133.0</td>\n",
       "      <td>0</td>\n",
       "      <td>0.0</td>\n",
       "      <td>2</td>\n",
       "      <td>0.0</td>\n",
       "      <td>1</td>\n",
       "      <td>0</td>\n",
       "    </tr>\n",
       "  </tbody>\n",
       "</table>\n",
       "</div>"
      ],
      "text/plain": [
       "     age  sex  dataset  cp  trestbps   chol  fbs  restecg  thalch  exang  \\\n",
       "733   63    1        3   2     136.0  253.0    0        0   128.0      0   \n",
       "743   74    1        3   2     136.0  246.0    0        1   129.0      0   \n",
       "746   51    1        3   0     135.0  258.0    1        2   131.0      1   \n",
       "750   54    1        3   0     132.0  247.0    0        2   121.0      1   \n",
       "771   63    0        3   1     136.0  255.0    0        1   133.0      0   \n",
       "\n",
       "     oldpeak  slope   ca  thal  num  \n",
       "733      0.0      1  1.0     1    1  \n",
       "743      0.0      1  0.0     1    0  \n",
       "746      1.0      1  1.0     2    2  \n",
       "750      1.0      1  1.0     2    3  \n",
       "771      0.0      2  0.0     1    0  "
      ]
     },
     "execution_count": 37,
     "metadata": {},
     "output_type": "execute_result"
    }
   ],
   "source": [
    "df.head()"
   ]
  },
  {
   "cell_type": "code",
   "execution_count": 38,
   "id": "a5e13e66-bb49-4ee9-9953-ed859ec2a9ad",
   "metadata": {
    "tags": []
   },
   "outputs": [],
   "source": [
    "#Reverse the label encoding and restore the original categorical values in the DataFrame.\n",
    "for col in columns_to_encode:\n",
    "    # Retrieve the corresponding LabelEncoder for the column\n",
    "    le = label_encoders[col]\n",
    "\n",
    "    # Inverse transform the data\n",
    "    df[col] = le.inverse_transform(df[col]).astype('O')"
   ]
  },
  {
   "cell_type": "code",
   "execution_count": 39,
   "id": "1d976c1d-8323-4d02-87b9-573d67c44dcd",
   "metadata": {
    "tags": []
   },
   "outputs": [
    {
     "data": {
      "text/html": [
       "<div>\n",
       "<style scoped>\n",
       "    .dataframe tbody tr th:only-of-type {\n",
       "        vertical-align: middle;\n",
       "    }\n",
       "\n",
       "    .dataframe tbody tr th {\n",
       "        vertical-align: top;\n",
       "    }\n",
       "\n",
       "    .dataframe thead th {\n",
       "        text-align: right;\n",
       "    }\n",
       "</style>\n",
       "<table border=\"1\" class=\"dataframe\">\n",
       "  <thead>\n",
       "    <tr style=\"text-align: right;\">\n",
       "      <th></th>\n",
       "      <th>age</th>\n",
       "      <th>sex</th>\n",
       "      <th>dataset</th>\n",
       "      <th>cp</th>\n",
       "      <th>trestbps</th>\n",
       "      <th>chol</th>\n",
       "      <th>fbs</th>\n",
       "      <th>restecg</th>\n",
       "      <th>thalch</th>\n",
       "      <th>exang</th>\n",
       "      <th>oldpeak</th>\n",
       "      <th>slope</th>\n",
       "      <th>ca</th>\n",
       "      <th>thal</th>\n",
       "      <th>num</th>\n",
       "    </tr>\n",
       "  </thead>\n",
       "  <tbody>\n",
       "    <tr>\n",
       "      <th>733</th>\n",
       "      <td>63</td>\n",
       "      <td>Male</td>\n",
       "      <td>VA Long Beach</td>\n",
       "      <td>non-anginal</td>\n",
       "      <td>136.0</td>\n",
       "      <td>253.0</td>\n",
       "      <td>False</td>\n",
       "      <td>lv hypertrophy</td>\n",
       "      <td>128.0</td>\n",
       "      <td>False</td>\n",
       "      <td>0.0</td>\n",
       "      <td>flat</td>\n",
       "      <td>1.0</td>\n",
       "      <td>normal</td>\n",
       "      <td>1</td>\n",
       "    </tr>\n",
       "    <tr>\n",
       "      <th>743</th>\n",
       "      <td>74</td>\n",
       "      <td>Male</td>\n",
       "      <td>VA Long Beach</td>\n",
       "      <td>non-anginal</td>\n",
       "      <td>136.0</td>\n",
       "      <td>246.0</td>\n",
       "      <td>False</td>\n",
       "      <td>normal</td>\n",
       "      <td>129.0</td>\n",
       "      <td>False</td>\n",
       "      <td>0.0</td>\n",
       "      <td>flat</td>\n",
       "      <td>0.0</td>\n",
       "      <td>normal</td>\n",
       "      <td>0</td>\n",
       "    </tr>\n",
       "    <tr>\n",
       "      <th>746</th>\n",
       "      <td>51</td>\n",
       "      <td>Male</td>\n",
       "      <td>VA Long Beach</td>\n",
       "      <td>asymptomatic</td>\n",
       "      <td>135.0</td>\n",
       "      <td>258.0</td>\n",
       "      <td>True</td>\n",
       "      <td>st-t abnormality</td>\n",
       "      <td>131.0</td>\n",
       "      <td>True</td>\n",
       "      <td>1.0</td>\n",
       "      <td>flat</td>\n",
       "      <td>1.0</td>\n",
       "      <td>reversable defect</td>\n",
       "      <td>2</td>\n",
       "    </tr>\n",
       "    <tr>\n",
       "      <th>750</th>\n",
       "      <td>54</td>\n",
       "      <td>Male</td>\n",
       "      <td>VA Long Beach</td>\n",
       "      <td>asymptomatic</td>\n",
       "      <td>132.0</td>\n",
       "      <td>247.0</td>\n",
       "      <td>False</td>\n",
       "      <td>st-t abnormality</td>\n",
       "      <td>121.0</td>\n",
       "      <td>True</td>\n",
       "      <td>1.0</td>\n",
       "      <td>flat</td>\n",
       "      <td>1.0</td>\n",
       "      <td>reversable defect</td>\n",
       "      <td>3</td>\n",
       "    </tr>\n",
       "    <tr>\n",
       "      <th>771</th>\n",
       "      <td>63</td>\n",
       "      <td>Female</td>\n",
       "      <td>VA Long Beach</td>\n",
       "      <td>atypical angina</td>\n",
       "      <td>136.0</td>\n",
       "      <td>255.0</td>\n",
       "      <td>False</td>\n",
       "      <td>normal</td>\n",
       "      <td>133.0</td>\n",
       "      <td>False</td>\n",
       "      <td>0.0</td>\n",
       "      <td>upsloping</td>\n",
       "      <td>0.0</td>\n",
       "      <td>normal</td>\n",
       "      <td>0</td>\n",
       "    </tr>\n",
       "  </tbody>\n",
       "</table>\n",
       "</div>"
      ],
      "text/plain": [
       "     age     sex        dataset               cp  trestbps   chol    fbs  \\\n",
       "733   63    Male  VA Long Beach      non-anginal     136.0  253.0  False   \n",
       "743   74    Male  VA Long Beach      non-anginal     136.0  246.0  False   \n",
       "746   51    Male  VA Long Beach     asymptomatic     135.0  258.0   True   \n",
       "750   54    Male  VA Long Beach     asymptomatic     132.0  247.0  False   \n",
       "771   63  Female  VA Long Beach  atypical angina     136.0  255.0  False   \n",
       "\n",
       "              restecg  thalch  exang  oldpeak      slope   ca  \\\n",
       "733    lv hypertrophy   128.0  False      0.0       flat  1.0   \n",
       "743            normal   129.0  False      0.0       flat  0.0   \n",
       "746  st-t abnormality   131.0   True      1.0       flat  1.0   \n",
       "750  st-t abnormality   121.0   True      1.0       flat  1.0   \n",
       "771            normal   133.0  False      0.0  upsloping  0.0   \n",
       "\n",
       "                  thal  num  \n",
       "733             normal    1  \n",
       "743             normal    0  \n",
       "746  reversable defect    2  \n",
       "750  reversable defect    3  \n",
       "771             normal    0  "
      ]
     },
     "execution_count": 39,
     "metadata": {},
     "output_type": "execute_result"
    }
   ],
   "source": [
    "df.head()"
   ]
  },
  {
   "cell_type": "code",
   "execution_count": 40,
   "id": "5e56ce96-6af8-40c7-a625-15562e0ae574",
   "metadata": {
    "tags": []
   },
   "outputs": [],
   "source": [
    "# it is not physiologically possible for resting blood pressure in mm Hg to be zero.\n",
    "df = df[df['trestbps'] != 0]"
   ]
  },
  {
   "cell_type": "code",
   "execution_count": 41,
   "id": "9f2648d4-dccb-4339-b176-f0e0c553be7f",
   "metadata": {
    "tags": []
   },
   "outputs": [
    {
     "data": {
      "text/plain": [
       "['age', 'trestbps', 'chol', 'thalch', 'oldpeak', 'ca', 'num']"
      ]
     },
     "execution_count": 41,
     "metadata": {},
     "output_type": "execute_result"
    }
   ],
   "source": [
    "# Separate numerical and categorical features\n",
    "num_cols = [col for col in df.select_dtypes(exclude='O')]\n",
    "cat_cols = [col for col in df.select_dtypes(include='O')]\n",
    "num_cols"
   ]
  },
  {
   "cell_type": "code",
   "execution_count": 42,
   "id": "a3589124-3570-44ca-ab87-4e0111bac0e8",
   "metadata": {
    "tags": []
   },
   "outputs": [],
   "source": [
    "#Split the DataFrame into numeric and categorical columns for further processing.\n",
    "n = df[['age', 'trestbps', 'chol', 'thalch', 'oldpeak', 'ca', 'num']]\n",
    "num_cols = n\n",
    "cat_cols = pd.DataFrame (df, columns= cat_cols)"
   ]
  },
  {
   "cell_type": "code",
   "execution_count": 43,
   "id": "26d25440-964c-4111-93db-efec6cfe343c",
   "metadata": {
    "tags": []
   },
   "outputs": [],
   "source": [
    "#Drop duplicate data\n",
    "df.drop_duplicates(inplace=True)   "
   ]
  },
  {
   "cell_type": "code",
   "execution_count": 44,
   "id": "8e0f48a0-643f-433c-a02e-fb27c6f72370",
   "metadata": {
    "tags": []
   },
   "outputs": [],
   "source": [
    "#Bin the numeric 'num' column into categories based on predefined thresholds.\n",
    "bins=[0,1,2,3,4]\n",
    "labels=['No-Heart-Disease', 'Mild-Heart-Disease', 'Moderate-Heart-Disease', 'Severe-Heart-Disease']\n",
    "df['num_bins']=pd.cut(df['num'], bins=bins, labels=labels, include_lowest=True)"
   ]
  },
  {
   "cell_type": "code",
   "execution_count": 45,
   "id": "5a7cfeca-18c0-4447-bc7e-d6f8c3c61c29",
   "metadata": {
    "tags": []
   },
   "outputs": [],
   "source": [
    "#Encode categorical columns using LabelEncoder and store the encoders for later reference.\n",
    "label_encoders ={}\n",
    "for col in df[['sex', 'dataset', 'cp', 'thal', 'slope', 'exang', 'restecg', 'fbs','num_bins' ]]:\n",
    "    le = LabelEncoder()\n",
    "    df[col] = le.fit_transform(df[col])\n",
    "    label_encoders[col] = le"
   ]
  },
  {
   "cell_type": "code",
   "execution_count": 47,
   "id": "3a7f77bb-f22d-436c-8e05-7f92ab026b09",
   "metadata": {
    "tags": []
   },
   "outputs": [],
   "source": [
    "#Rearrange the columns in the DataFrame, moving the last column to the front.\n",
    "cols = df.columns.tolist()\n",
    "cols = cols[-1:] + cols[:-1]\n",
    "df = df[cols]"
   ]
  },
  {
   "cell_type": "code",
   "execution_count": 48,
   "id": "7886714a-19ac-49cb-a2d3-959fa3d43e57",
   "metadata": {
    "tags": []
   },
   "outputs": [],
   "source": [
    "#Drop num and keep the new bin target.\n",
    "df.drop('num', axis=1, inplace=True)"
   ]
  },
  {
   "cell_type": "code",
   "execution_count": 49,
   "id": "837f595f-4df2-4e9b-a78f-8f0421eeff27",
   "metadata": {
    "tags": []
   },
   "outputs": [
    {
     "data": {
      "text/html": [
       "<div>\n",
       "<style scoped>\n",
       "    .dataframe tbody tr th:only-of-type {\n",
       "        vertical-align: middle;\n",
       "    }\n",
       "\n",
       "    .dataframe tbody tr th {\n",
       "        vertical-align: top;\n",
       "    }\n",
       "\n",
       "    .dataframe thead th {\n",
       "        text-align: right;\n",
       "    }\n",
       "</style>\n",
       "<table border=\"1\" class=\"dataframe\">\n",
       "  <thead>\n",
       "    <tr style=\"text-align: right;\">\n",
       "      <th></th>\n",
       "      <th>num_bins</th>\n",
       "      <th>age</th>\n",
       "      <th>sex</th>\n",
       "      <th>dataset</th>\n",
       "      <th>cp</th>\n",
       "      <th>trestbps</th>\n",
       "      <th>chol</th>\n",
       "      <th>fbs</th>\n",
       "      <th>restecg</th>\n",
       "      <th>thalch</th>\n",
       "      <th>exang</th>\n",
       "      <th>oldpeak</th>\n",
       "      <th>slope</th>\n",
       "      <th>ca</th>\n",
       "      <th>thal</th>\n",
       "    </tr>\n",
       "  </thead>\n",
       "  <tbody>\n",
       "    <tr>\n",
       "      <th>733</th>\n",
       "      <td>2</td>\n",
       "      <td>63</td>\n",
       "      <td>1</td>\n",
       "      <td>3</td>\n",
       "      <td>2</td>\n",
       "      <td>136.0</td>\n",
       "      <td>253.0</td>\n",
       "      <td>0</td>\n",
       "      <td>0</td>\n",
       "      <td>128.0</td>\n",
       "      <td>0</td>\n",
       "      <td>0.0</td>\n",
       "      <td>1</td>\n",
       "      <td>1.0</td>\n",
       "      <td>1</td>\n",
       "    </tr>\n",
       "    <tr>\n",
       "      <th>743</th>\n",
       "      <td>2</td>\n",
       "      <td>74</td>\n",
       "      <td>1</td>\n",
       "      <td>3</td>\n",
       "      <td>2</td>\n",
       "      <td>136.0</td>\n",
       "      <td>246.0</td>\n",
       "      <td>0</td>\n",
       "      <td>1</td>\n",
       "      <td>129.0</td>\n",
       "      <td>0</td>\n",
       "      <td>0.0</td>\n",
       "      <td>1</td>\n",
       "      <td>0.0</td>\n",
       "      <td>1</td>\n",
       "    </tr>\n",
       "    <tr>\n",
       "      <th>746</th>\n",
       "      <td>0</td>\n",
       "      <td>51</td>\n",
       "      <td>1</td>\n",
       "      <td>3</td>\n",
       "      <td>0</td>\n",
       "      <td>135.0</td>\n",
       "      <td>258.0</td>\n",
       "      <td>1</td>\n",
       "      <td>2</td>\n",
       "      <td>131.0</td>\n",
       "      <td>1</td>\n",
       "      <td>1.0</td>\n",
       "      <td>1</td>\n",
       "      <td>1.0</td>\n",
       "      <td>2</td>\n",
       "    </tr>\n",
       "    <tr>\n",
       "      <th>750</th>\n",
       "      <td>1</td>\n",
       "      <td>54</td>\n",
       "      <td>1</td>\n",
       "      <td>3</td>\n",
       "      <td>0</td>\n",
       "      <td>132.0</td>\n",
       "      <td>247.0</td>\n",
       "      <td>0</td>\n",
       "      <td>2</td>\n",
       "      <td>121.0</td>\n",
       "      <td>1</td>\n",
       "      <td>1.0</td>\n",
       "      <td>1</td>\n",
       "      <td>1.0</td>\n",
       "      <td>2</td>\n",
       "    </tr>\n",
       "    <tr>\n",
       "      <th>771</th>\n",
       "      <td>2</td>\n",
       "      <td>63</td>\n",
       "      <td>0</td>\n",
       "      <td>3</td>\n",
       "      <td>1</td>\n",
       "      <td>136.0</td>\n",
       "      <td>255.0</td>\n",
       "      <td>0</td>\n",
       "      <td>1</td>\n",
       "      <td>133.0</td>\n",
       "      <td>0</td>\n",
       "      <td>0.0</td>\n",
       "      <td>2</td>\n",
       "      <td>0.0</td>\n",
       "      <td>1</td>\n",
       "    </tr>\n",
       "  </tbody>\n",
       "</table>\n",
       "</div>"
      ],
      "text/plain": [
       "     num_bins  age  sex  dataset  cp  trestbps   chol  fbs  restecg  thalch  \\\n",
       "733         2   63    1        3   2     136.0  253.0    0        0   128.0   \n",
       "743         2   74    1        3   2     136.0  246.0    0        1   129.0   \n",
       "746         0   51    1        3   0     135.0  258.0    1        2   131.0   \n",
       "750         1   54    1        3   0     132.0  247.0    0        2   121.0   \n",
       "771         2   63    0        3   1     136.0  255.0    0        1   133.0   \n",
       "\n",
       "     exang  oldpeak  slope   ca  thal  \n",
       "733      0      0.0      1  1.0     1  \n",
       "743      0      0.0      1  0.0     1  \n",
       "746      1      1.0      1  1.0     2  \n",
       "750      1      1.0      1  1.0     2  \n",
       "771      0      0.0      2  0.0     1  "
      ]
     },
     "execution_count": 49,
     "metadata": {},
     "output_type": "execute_result"
    }
   ],
   "source": [
    "df.head()"
   ]
  },
  {
   "cell_type": "code",
   "execution_count": 50,
   "id": "ac382b14-c3f9-47c7-b9b6-697e16f1f596",
   "metadata": {
    "tags": []
   },
   "outputs": [],
   "source": [
    "#save the datasets\n",
    "model_data = df\n",
    "\n",
    "pd.DataFrame(model_data).to_csv(\n",
    "    f\"{base_dir}/modeldata/fulldataset.csv\", header=True, index=False\n",
    ")"
   ]
  },
  {
   "cell_type": "code",
   "execution_count": 51,
   "id": "9ea946b1-c5c6-4799-b819-f895cd4774b0",
   "metadata": {
    "tags": []
   },
   "outputs": [
    {
     "name": "stderr",
     "output_type": "stream",
     "text": [
      "/opt/conda/lib/python3.10/site-packages/numpy/core/fromnumeric.py:59: FutureWarning: 'DataFrame.swapaxes' is deprecated and will be removed in a future version. Please use 'DataFrame.transpose' instead.\n",
      "  return bound(*args, **kwds)\n"
     ]
    }
   ],
   "source": [
    "# Split the data\n",
    "train_data, validation_data, test_data = np.split(\n",
    "    model_data.sample(frac=1, random_state=1729),\n",
    "    [int(0.7 * len(model_data)), int(0.9 * len(model_data))],\n",
    ")\n",
    "\n",
    "pd.DataFrame(train_data).to_csv(\n",
    "    f\"{base_dir}/train/train.csv\", header=False, index=False\n",
    ")\n",
    "pd.DataFrame(validation_data).to_csv(\n",
    "    f\"{base_dir}/validation/validation.csv\", header=False, index=False\n",
    ")\n",
    "pd.DataFrame(test_data).to_csv(\n",
    "    f\"{base_dir}/test/test.csv\", header=False, index=False\n",
    ")"
   ]
  },
  {
   "cell_type": "code",
   "execution_count": 52,
   "id": "3b6514cb-27e8-4d39-91eb-a3f50de472a7",
   "metadata": {
    "tags": []
   },
   "outputs": [],
   "source": [
    "#Upload Datasets to S3\n",
    "s3 = boto3.resource('s3')\n",
    "s3.Bucket(bucket).upload_file(f\"{base_dir}/train/train.csv\", \"data/train/train.csv\")\n",
    "s3.Bucket(bucket).upload_file(f\"{base_dir}/validation/validation.csv\", \"data/validation/validation.csv\")\n",
    "s3.Bucket(bucket).upload_file(f\"{base_dir}/test/test.csv\", \"data/test/test.csv\")\n",
    "s3.Bucket(bucket).upload_file(f\"{base_dir}/modeldata/fulldataset.csv\", \"data/modeldata/fulldataset.csv\")"
   ]
  },
  {
   "cell_type": "code",
   "execution_count": null,
   "id": "dce21cff-4f59-4549-8be4-917795e9a065",
   "metadata": {},
   "outputs": [],
   "source": [
    "#### TRAINING\n",
    "####"
   ]
  },
  {
   "cell_type": "code",
   "execution_count": 54,
   "id": "761ab021-4909-4883-9948-5aea39b91d9a",
   "metadata": {
    "tags": []
   },
   "outputs": [
    {
     "name": "stdout",
     "output_type": "stream",
     "text": [
      "sagemaker.config INFO - Not applying SDK defaults from location: /etc/xdg/sagemaker/config.yaml\n",
      "sagemaker.config INFO - Not applying SDK defaults from location: /root/.config/sagemaker/config.yaml\n"
     ]
    }
   ],
   "source": [
    "import sagemaker\n",
    "from sagemaker import image_uris\n",
    "from sagemaker.session import Session\n",
    "from sagemaker.inputs import TrainingInput"
   ]
  },
  {
   "cell_type": "code",
   "execution_count": 58,
   "id": "237e2520-2b9f-4aad-b4dc-a8668dbb8373",
   "metadata": {
    "tags": []
   },
   "outputs": [],
   "source": [
    "# Set up init variables\n",
    "region = 'us-east-1'\n",
    "prefix = 'data'\n",
    "# output path where the trained model will be saved\n",
    "output_path = 's3://{}/{}/{}/output'.format(bucket, prefix, 'tfc-heart-xgb')\n",
    "# define the data type and paths to the training and validation datasets\n",
    "content_type = \"csv\"\n",
    "train_input = TrainingInput(\"s3://{}/{}/{}/\".format(bucket, prefix, 'train'), content_type=content_type)\n",
    "validation_input = TrainingInput(\"s3://{}/{}/{}/\".format(bucket, prefix, 'validation'), content_type=content_type)"
   ]
  },
  {
   "cell_type": "code",
   "execution_count": 56,
   "id": "1271e3c8-fc07-49ab-b6a6-9992644ac56d",
   "metadata": {
    "tags": []
   },
   "outputs": [],
   "source": [
    "# initialize hyperparameters\n",
    "hyperparameters = {\n",
    "        \"objective\":\"multi:softmax\",\n",
    "        \"num_class\":\"5\",\n",
    "        \"max_depth\":\"4\",\n",
    "        \"learning_rate\":\"0.2\",\n",
    "        \"gamma\":\"0.1\",\n",
    "        \"subsample\":\"1.0\",\n",
    "        \"reg_alpha\":\"0\",\n",
    "        \"reg_lambda\":\"1\",\n",
    "        \"early_stopping_rounds\":\"10\",\n",
    "        \"num_round\":\"100\"}"
   ]
  },
  {
   "cell_type": "code",
   "execution_count": 59,
   "id": "a1d1a74e-c718-4866-965c-7fdd7a279274",
   "metadata": {
    "tags": []
   },
   "outputs": [
    {
     "name": "stderr",
     "output_type": "stream",
     "text": [
      "INFO:sagemaker:Creating training-job with name: tfc-job--xgb-heart-2024-10-28-2147-2024-10-28-22-28-23-443\n"
     ]
    },
    {
     "name": "stdout",
     "output_type": "stream",
     "text": [
      "2024-10-28 22:28:23 Starting - Starting the training job...\n",
      "2024-10-28 22:28:40 Starting - Preparing the instances for training...\n",
      "2024-10-28 22:29:11 Downloading - Downloading input data...\n",
      "2024-10-28 22:29:31 Downloading - Downloading the training image...\n",
      "2024-10-28 22:30:08 Training - Training image download completed. Training in progress...\u001b[34m[2024-10-28 22:30:29.197 ip-10-0-130-138.ec2.internal:7 INFO utils.py:28] RULE_JOB_STOP_SIGNAL_FILENAME: None\u001b[0m\n",
      "\u001b[34m[2024-10-28 22:30:29.224 ip-10-0-130-138.ec2.internal:7 INFO profiler_config_parser.py:111] User has disabled profiler.\u001b[0m\n",
      "\u001b[34m[2024-10-28:22:30:29:INFO] Imported framework sagemaker_xgboost_container.training\u001b[0m\n",
      "\u001b[34m[2024-10-28:22:30:29:INFO] Failed to parse hyperparameter objective value multi:softmax to Json.\u001b[0m\n",
      "\u001b[34mReturning the value itself\u001b[0m\n",
      "\u001b[34m[2024-10-28:22:30:29:INFO] No GPUs detected (normal if no gpus installed)\u001b[0m\n",
      "\u001b[34m[2024-10-28:22:30:29:INFO] Running XGBoost Sagemaker in algorithm mode\u001b[0m\n",
      "\u001b[34m[2024-10-28:22:30:29:INFO] Determined 0 GPU(s) available on the instance.\u001b[0m\n",
      "\u001b[34m[2024-10-28:22:30:29:INFO] Determined delimiter of CSV input is ','\u001b[0m\n",
      "\u001b[34m[2024-10-28:22:30:29:INFO] Determined delimiter of CSV input is ','\u001b[0m\n",
      "\u001b[34m[2024-10-28:22:30:29:INFO] File path /opt/ml/input/data/train of input files\u001b[0m\n",
      "\u001b[34m[2024-10-28:22:30:29:INFO] Making smlinks from folder /opt/ml/input/data/train to folder /tmp/sagemaker_xgboost_input_data\u001b[0m\n",
      "\u001b[34m[2024-10-28:22:30:29:INFO] creating symlink between Path /opt/ml/input/data/train/train.csv and destination /tmp/sagemaker_xgboost_input_data/train.csv5457853936454230787\u001b[0m\n",
      "\u001b[34m[2024-10-28:22:30:29:INFO] files path: /tmp/sagemaker_xgboost_input_data\u001b[0m\n",
      "\u001b[34m[2024-10-28:22:30:29:INFO] Determined delimiter of CSV input is ','\u001b[0m\n",
      "\u001b[34m[2024-10-28:22:30:29:INFO] File path /opt/ml/input/data/validation of input files\u001b[0m\n",
      "\u001b[34m[2024-10-28:22:30:29:INFO] Making smlinks from folder /opt/ml/input/data/validation to folder /tmp/sagemaker_xgboost_input_data\u001b[0m\n",
      "\u001b[34m[2024-10-28:22:30:29:INFO] creating symlink between Path /opt/ml/input/data/validation/validation.csv and destination /tmp/sagemaker_xgboost_input_data/validation.csv8331880274870282624\u001b[0m\n",
      "\u001b[34m[2024-10-28:22:30:29:INFO] files path: /tmp/sagemaker_xgboost_input_data\u001b[0m\n",
      "\u001b[34m[2024-10-28:22:30:29:INFO] Determined delimiter of CSV input is ','\u001b[0m\n",
      "\u001b[34m[2024-10-28:22:30:29:INFO] Single node training.\u001b[0m\n",
      "\u001b[34m[2024-10-28:22:30:29:INFO] Train matrix has 641 rows and 14 columns\u001b[0m\n",
      "\u001b[34m[2024-10-28:22:30:29:INFO] Validation matrix has 184 rows\u001b[0m\n",
      "\u001b[34m[2024-10-28 22:30:29.722 ip-10-0-130-138.ec2.internal:7 INFO json_config.py:92] Creating hook from json_config at /opt/ml/input/config/debughookconfig.json.\u001b[0m\n",
      "\u001b[34m[2024-10-28 22:30:29.723 ip-10-0-130-138.ec2.internal:7 INFO hook.py:206] tensorboard_dir has not been set for the hook. SMDebug will not be exporting tensorboard summaries.\u001b[0m\n",
      "\u001b[34m[2024-10-28 22:30:29.723 ip-10-0-130-138.ec2.internal:7 INFO hook.py:259] Saving to /opt/ml/output/tensors\u001b[0m\n",
      "\u001b[34m[2024-10-28 22:30:29.723 ip-10-0-130-138.ec2.internal:7 INFO state_store.py:77] The checkpoint config file /opt/ml/input/config/checkpointconfig.json does not exist.\u001b[0m\n",
      "\u001b[34m[2024-10-28:22:30:29:INFO] Debug hook created from config\u001b[0m\n",
      "\u001b[34m[0]#011train-mlogloss:1.30061#011validation-mlogloss:1.32707\u001b[0m\n",
      "\u001b[34m[2024-10-28 22:30:29.773 ip-10-0-130-138.ec2.internal:7 INFO hook.py:427] Monitoring the collections: metrics\u001b[0m\n",
      "\u001b[34m[2024-10-28 22:30:29.775 ip-10-0-130-138.ec2.internal:7 INFO hook.py:491] Hook is writing from the hook with pid: 7\u001b[0m\n",
      "\u001b[34m[1]#011train-mlogloss:1.10500#011validation-mlogloss:1.15799\u001b[0m\n",
      "\u001b[34m[2]#011train-mlogloss:0.95904#011validation-mlogloss:1.02213\u001b[0m\n",
      "\u001b[34m[3]#011train-mlogloss:0.84796#011validation-mlogloss:0.92533\u001b[0m\n",
      "\u001b[34m[4]#011train-mlogloss:0.75856#011validation-mlogloss:0.84726\u001b[0m\n",
      "\u001b[34m[5]#011train-mlogloss:0.68806#011validation-mlogloss:0.78648\u001b[0m\n",
      "\u001b[34m[6]#011train-mlogloss:0.62957#011validation-mlogloss:0.74108\u001b[0m\n",
      "\u001b[34m[7]#011train-mlogloss:0.57916#011validation-mlogloss:0.70359\u001b[0m\n",
      "\u001b[34m[8]#011train-mlogloss:0.53638#011validation-mlogloss:0.66517\u001b[0m\n",
      "\u001b[34m[9]#011train-mlogloss:0.50012#011validation-mlogloss:0.64158\u001b[0m\n",
      "\u001b[34m[10]#011train-mlogloss:0.46639#011validation-mlogloss:0.61721\u001b[0m\n",
      "\u001b[34m[11]#011train-mlogloss:0.43945#011validation-mlogloss:0.59650\u001b[0m\n",
      "\u001b[34m[12]#011train-mlogloss:0.41604#011validation-mlogloss:0.57987\u001b[0m\n",
      "\u001b[34m[13]#011train-mlogloss:0.39567#011validation-mlogloss:0.57217\u001b[0m\n",
      "\u001b[34m[14]#011train-mlogloss:0.37428#011validation-mlogloss:0.56147\u001b[0m\n",
      "\u001b[34m[15]#011train-mlogloss:0.35711#011validation-mlogloss:0.55287\u001b[0m\n",
      "\u001b[34m[16]#011train-mlogloss:0.34320#011validation-mlogloss:0.54908\u001b[0m\n",
      "\u001b[34m[17]#011train-mlogloss:0.32879#011validation-mlogloss:0.54243\u001b[0m\n",
      "\u001b[34m[18]#011train-mlogloss:0.31579#011validation-mlogloss:0.53651\u001b[0m\n",
      "\u001b[34m[19]#011train-mlogloss:0.30247#011validation-mlogloss:0.53086\u001b[0m\n",
      "\u001b[34m[20]#011train-mlogloss:0.29215#011validation-mlogloss:0.52499\u001b[0m\n",
      "\u001b[34m[21]#011train-mlogloss:0.28258#011validation-mlogloss:0.52422\u001b[0m\n",
      "\u001b[34m[22]#011train-mlogloss:0.27222#011validation-mlogloss:0.52373\u001b[0m\n",
      "\u001b[34m[23]#011train-mlogloss:0.26309#011validation-mlogloss:0.52029\u001b[0m\n",
      "\u001b[34m[24]#011train-mlogloss:0.25426#011validation-mlogloss:0.52431\u001b[0m\n",
      "\u001b[34m[25]#011train-mlogloss:0.24647#011validation-mlogloss:0.52119\u001b[0m\n",
      "\u001b[34m[26]#011train-mlogloss:0.23846#011validation-mlogloss:0.51961\u001b[0m\n",
      "\u001b[34m[27]#011train-mlogloss:0.23347#011validation-mlogloss:0.52104\u001b[0m\n",
      "\u001b[34m[28]#011train-mlogloss:0.22828#011validation-mlogloss:0.51982\u001b[0m\n",
      "\u001b[34m[29]#011train-mlogloss:0.22107#011validation-mlogloss:0.51990\u001b[0m\n",
      "\u001b[34m[30]#011train-mlogloss:0.21535#011validation-mlogloss:0.51907\u001b[0m\n",
      "\u001b[34m[31]#011train-mlogloss:0.20775#011validation-mlogloss:0.51501\u001b[0m\n",
      "\u001b[34m[32]#011train-mlogloss:0.20270#011validation-mlogloss:0.51407\u001b[0m\n",
      "\u001b[34m[33]#011train-mlogloss:0.19861#011validation-mlogloss:0.51420\u001b[0m\n",
      "\u001b[34m[34]#011train-mlogloss:0.19429#011validation-mlogloss:0.51225\u001b[0m\n",
      "\u001b[34m[35]#011train-mlogloss:0.18856#011validation-mlogloss:0.50895\u001b[0m\n",
      "\u001b[34m[36]#011train-mlogloss:0.18312#011validation-mlogloss:0.50973\u001b[0m\n",
      "\u001b[34m[37]#011train-mlogloss:0.17894#011validation-mlogloss:0.50934\u001b[0m\n",
      "\u001b[34m[38]#011train-mlogloss:0.17556#011validation-mlogloss:0.51021\u001b[0m\n",
      "\u001b[34m[39]#011train-mlogloss:0.17086#011validation-mlogloss:0.51284\u001b[0m\n",
      "\u001b[34m[40]#011train-mlogloss:0.16625#011validation-mlogloss:0.51035\u001b[0m\n",
      "\u001b[34m[41]#011train-mlogloss:0.16256#011validation-mlogloss:0.50991\u001b[0m\n",
      "\u001b[34m[42]#011train-mlogloss:0.15874#011validation-mlogloss:0.50951\u001b[0m\n",
      "\u001b[34m[43]#011train-mlogloss:0.15418#011validation-mlogloss:0.50885\u001b[0m\n",
      "\u001b[34m[44]#011train-mlogloss:0.15014#011validation-mlogloss:0.50701\u001b[0m\n",
      "\u001b[34m[45]#011train-mlogloss:0.14682#011validation-mlogloss:0.50556\u001b[0m\n",
      "\u001b[34m[46]#011train-mlogloss:0.14423#011validation-mlogloss:0.50589\u001b[0m\n",
      "\u001b[34m[47]#011train-mlogloss:0.14001#011validation-mlogloss:0.51043\u001b[0m\n",
      "\u001b[34m[48]#011train-mlogloss:0.13674#011validation-mlogloss:0.51016\u001b[0m\n",
      "\u001b[34m[49]#011train-mlogloss:0.13282#011validation-mlogloss:0.51161\u001b[0m\n",
      "\u001b[34m[50]#011train-mlogloss:0.12923#011validation-mlogloss:0.51198\u001b[0m\n",
      "\u001b[34m[51]#011train-mlogloss:0.12636#011validation-mlogloss:0.51205\u001b[0m\n",
      "\u001b[34m[52]#011train-mlogloss:0.12319#011validation-mlogloss:0.51140\u001b[0m\n",
      "\u001b[34m[53]#011train-mlogloss:0.11975#011validation-mlogloss:0.51529\u001b[0m\n",
      "\u001b[34m[54]#011train-mlogloss:0.11637#011validation-mlogloss:0.51897\u001b[0m\n",
      "\u001b[34m[55]#011train-mlogloss:0.11409#011validation-mlogloss:0.52015\u001b[0m\n",
      "\u001b[34m[56]#011train-mlogloss:0.11171#011validation-mlogloss:0.52279\u001b[0m\n",
      "\u001b[34m[57]#011train-mlogloss:0.10910#011validation-mlogloss:0.52449\u001b[0m\n",
      "\u001b[34m[58]#011train-mlogloss:0.10689#011validation-mlogloss:0.52434\u001b[0m\n",
      "\u001b[34m[59]#011train-mlogloss:0.10460#011validation-mlogloss:0.52467\u001b[0m\n",
      "\u001b[34m[60]#011train-mlogloss:0.10175#011validation-mlogloss:0.52681\u001b[0m\n",
      "\u001b[34m[61]#011train-mlogloss:0.09956#011validation-mlogloss:0.52539\u001b[0m\n",
      "\u001b[34m[62]#011train-mlogloss:0.09738#011validation-mlogloss:0.52674\u001b[0m\n",
      "\u001b[34m[63]#011train-mlogloss:0.09564#011validation-mlogloss:0.52798\u001b[0m\n",
      "\u001b[34m[64]#011train-mlogloss:0.09312#011validation-mlogloss:0.52761\u001b[0m\n",
      "\u001b[34m[65]#011train-mlogloss:0.09145#011validation-mlogloss:0.52829\u001b[0m\n",
      "\u001b[34m[66]#011train-mlogloss:0.08992#011validation-mlogloss:0.53067\u001b[0m\n",
      "\u001b[34m[67]#011train-mlogloss:0.08806#011validation-mlogloss:0.52975\u001b[0m\n",
      "\u001b[34m[68]#011train-mlogloss:0.08632#011validation-mlogloss:0.52902\u001b[0m\n",
      "\u001b[34m[69]#011train-mlogloss:0.08495#011validation-mlogloss:0.53026\u001b[0m\n",
      "\u001b[34m[70]#011train-mlogloss:0.08326#011validation-mlogloss:0.53061\u001b[0m\n",
      "\u001b[34m[71]#011train-mlogloss:0.08097#011validation-mlogloss:0.53261\u001b[0m\n",
      "\u001b[34m[72]#011train-mlogloss:0.07966#011validation-mlogloss:0.53280\u001b[0m\n",
      "\u001b[34m[73]#011train-mlogloss:0.07792#011validation-mlogloss:0.53014\u001b[0m\n",
      "\u001b[34m[74]#011train-mlogloss:0.07575#011validation-mlogloss:0.53080\u001b[0m\n",
      "\u001b[34m[75]#011train-mlogloss:0.07456#011validation-mlogloss:0.53264\u001b[0m\n",
      "\u001b[34m[76]#011train-mlogloss:0.07294#011validation-mlogloss:0.53669\u001b[0m\n",
      "\u001b[34m[77]#011train-mlogloss:0.07153#011validation-mlogloss:0.53836\u001b[0m\n",
      "\u001b[34m[78]#011train-mlogloss:0.07061#011validation-mlogloss:0.53771\u001b[0m\n",
      "\u001b[34m[79]#011train-mlogloss:0.06961#011validation-mlogloss:0.53936\u001b[0m\n",
      "\u001b[34m[80]#011train-mlogloss:0.06873#011validation-mlogloss:0.54204\u001b[0m\n",
      "\u001b[34m[81]#011train-mlogloss:0.06725#011validation-mlogloss:0.54325\u001b[0m\n",
      "\u001b[34m[82]#011train-mlogloss:0.06606#011validation-mlogloss:0.54333\u001b[0m\n",
      "\u001b[34m[83]#011train-mlogloss:0.06511#011validation-mlogloss:0.54405\u001b[0m\n",
      "\u001b[34m[84]#011train-mlogloss:0.06394#011validation-mlogloss:0.54468\u001b[0m\n",
      "\u001b[34m[85]#011train-mlogloss:0.06313#011validation-mlogloss:0.54637\u001b[0m\n",
      "\u001b[34m[86]#011train-mlogloss:0.06221#011validation-mlogloss:0.54725\u001b[0m\n",
      "\u001b[34m[87]#011train-mlogloss:0.06146#011validation-mlogloss:0.54756\u001b[0m\n",
      "\u001b[34m[88]#011train-mlogloss:0.06049#011validation-mlogloss:0.54941\u001b[0m\n",
      "\u001b[34m[89]#011train-mlogloss:0.05948#011validation-mlogloss:0.55193\u001b[0m\n",
      "\u001b[34m[90]#011train-mlogloss:0.05863#011validation-mlogloss:0.55059\u001b[0m\n",
      "\u001b[34m[91]#011train-mlogloss:0.05799#011validation-mlogloss:0.55148\u001b[0m\n",
      "\u001b[34m[92]#011train-mlogloss:0.05752#011validation-mlogloss:0.55383\u001b[0m\n",
      "\u001b[34m[93]#011train-mlogloss:0.05713#011validation-mlogloss:0.55482\u001b[0m\n",
      "\u001b[34m[94]#011train-mlogloss:0.05684#011validation-mlogloss:0.55695\u001b[0m\n",
      "\u001b[34m[95]#011train-mlogloss:0.05659#011validation-mlogloss:0.55755\u001b[0m\n",
      "\u001b[34m[96]#011train-mlogloss:0.05625#011validation-mlogloss:0.55683\u001b[0m\n",
      "\u001b[34m[97]#011train-mlogloss:0.05598#011validation-mlogloss:0.55698\u001b[0m\n",
      "\u001b[34m[98]#011train-mlogloss:0.05555#011validation-mlogloss:0.55701\u001b[0m\n",
      "\u001b[34m[99]#011train-mlogloss:0.05545#011validation-mlogloss:0.55731\u001b[0m\n",
      "\n",
      "2024-10-28 22:30:47 Uploading - Uploading generated training model\n",
      "2024-10-28 22:30:47 Completed - Training job completed\n",
      "Training seconds: 95\n",
      "Billable seconds: 95\n"
     ]
    }
   ],
   "source": [
    "# this line automatically looks for the XGBoost image URI and builds an XGBoost container.\n",
    "xgboost_container = sagemaker.image_uris.retrieve(\"xgboost\", region, \"1.7-1\")\n",
    "\n",
    "# construct a SageMaker estimator that calls the xgboost-container\n",
    "estimator = sagemaker.estimator.Estimator(image_uri=xgboost_container, \n",
    "                                          hyperparameters=hyperparameters,\n",
    "                                          base_job_name='tfc-job--xgb-heart-' + datenow,\n",
    "                                          role=sagemaker.get_execution_role(),\n",
    "                                          instance_count=1, \n",
    "                                          instance_type='ml.m5.2xlarge', \n",
    "                                          volume_size=5, # 5 GB \n",
    "                                          output_path=output_path)\n",
    "\n",
    "# execute the XGBoost training job\n",
    "estimator.fit({'train': train_input, 'validation': validation_input})"
   ]
  },
  {
   "cell_type": "code",
   "execution_count": null,
   "id": "921d2746-7a7a-4a88-87c7-62db467fcc85",
   "metadata": {},
   "outputs": [],
   "source": []
  },
  {
   "cell_type": "code",
   "execution_count": null,
   "id": "cd4464e8-4fce-4f71-baf0-07ac50685b75",
   "metadata": {},
   "outputs": [],
   "source": [
    "#### TRAINING - not working\n",
    "####"
   ]
  },
  {
   "cell_type": "code",
   "execution_count": 60,
   "id": "10d9c8a0-4ea9-479c-afd8-01e6d85502b8",
   "metadata": {
    "tags": []
   },
   "outputs": [],
   "source": [
    "# initialize hyperparameters\n",
    "hyperparameters = {\n",
    "        \"predictor_type\":\"multiclass_classifier\",\n",
    "        \"num_classes\":\"5\",\n",
    "        \"feature_dim\":\"14\",\n",
    "        \"mini_batch_size\":\"200\"}"
   ]
  },
  {
   "cell_type": "code",
   "execution_count": 61,
   "id": "b545674f-0351-4c98-b6d2-fb0a86e98ae3",
   "metadata": {
    "tags": []
   },
   "outputs": [],
   "source": [
    "# output path where the trained model will be saved\n",
    "output_path = 's3://{}/{}/{}/output'.format(bucket, prefix, 'tfc-heart-linear')"
   ]
  },
  {
   "cell_type": "code",
   "execution_count": 62,
   "id": "153449b7-3ced-463a-b7fd-559bbc3b8c11",
   "metadata": {
    "tags": []
   },
   "outputs": [
    {
     "name": "stderr",
     "output_type": "stream",
     "text": [
      "INFO:sagemaker.image_uris:Same images used for training and inference. Defaulting to image scope: inference.\n",
      "INFO:sagemaker.image_uris:Defaulting to the only supported framework/algorithm version: 1.\n",
      "INFO:sagemaker.image_uris:Ignoring unnecessary instance type: None.\n",
      "INFO:sagemaker:Creating training-job with name: tfc-job-linear-heart--2024-10-28-22-32-14-629\n"
     ]
    },
    {
     "name": "stdout",
     "output_type": "stream",
     "text": [
      "2024-10-28 22:32:14 Starting - Starting the training job...\n",
      "2024-10-28 22:32:29 Starting - Preparing the instances for training...\n",
      "2024-10-28 22:33:12 Downloading - Downloading the training image.........\n",
      "2024-10-28 22:34:23 Training - Training image download completed. Training in progress..\u001b[34mDocker entrypoint called with argument(s): train\u001b[0m\n",
      "\u001b[34mRunning default environment configuration script\u001b[0m\n",
      "\u001b[34m[10/28/2024 22:34:45 INFO 140031712307008] Reading default configuration from /opt/amazon/lib/python3.8/site-packages/algorithm/resources/default-input.json: {'mini_batch_size': '1000', 'epochs': '15', 'feature_dim': 'auto', 'use_bias': 'true', 'binary_classifier_model_selection_criteria': 'accuracy', 'f_beta': '1.0', 'target_recall': '0.8', 'target_precision': '0.8', 'num_models': 'auto', 'num_calibration_samples': '10000000', 'init_method': 'uniform', 'init_scale': '0.07', 'init_sigma': '0.01', 'init_bias': '0.0', 'optimizer': 'auto', 'loss': 'auto', 'margin': '1.0', 'quantile': '0.5', 'loss_insensitivity': '0.01', 'huber_delta': '1.0', 'num_classes': '1', 'accuracy_top_k': '3', 'wd': 'auto', 'l1': 'auto', 'momentum': 'auto', 'learning_rate': 'auto', 'beta_1': 'auto', 'beta_2': 'auto', 'bias_lr_mult': 'auto', 'bias_wd_mult': 'auto', 'use_lr_scheduler': 'true', 'lr_scheduler_step': 'auto', 'lr_scheduler_factor': 'auto', 'lr_scheduler_minimum_lr': 'auto', 'positive_example_weight_mult': '1.0', 'balance_multiclass_weights': 'false', 'normalize_data': 'true', 'normalize_label': 'auto', 'unbias_data': 'auto', 'unbias_label': 'auto', 'num_point_for_scaler': '10000', '_kvstore': 'auto', '_num_gpus': 'auto', '_num_kv_servers': 'auto', '_log_level': 'info', '_tuning_objective_metric': '', 'early_stopping_patience': '3', 'early_stopping_tolerance': '0.001', '_enable_profiler': 'false'}\u001b[0m\n",
      "\u001b[34m[10/28/2024 22:34:45 INFO 140031712307008] Merging with provided configuration from /opt/ml/input/config/hyperparameters.json: {'feature_dim': '14', 'mini_batch_size': '200', 'num_classes': '5', 'predictor_type': 'multiclass_classifier'}\u001b[0m\n",
      "\u001b[34m[10/28/2024 22:34:45 INFO 140031712307008] Final configuration: {'mini_batch_size': '200', 'epochs': '15', 'feature_dim': '14', 'use_bias': 'true', 'binary_classifier_model_selection_criteria': 'accuracy', 'f_beta': '1.0', 'target_recall': '0.8', 'target_precision': '0.8', 'num_models': 'auto', 'num_calibration_samples': '10000000', 'init_method': 'uniform', 'init_scale': '0.07', 'init_sigma': '0.01', 'init_bias': '0.0', 'optimizer': 'auto', 'loss': 'auto', 'margin': '1.0', 'quantile': '0.5', 'loss_insensitivity': '0.01', 'huber_delta': '1.0', 'num_classes': '5', 'accuracy_top_k': '3', 'wd': 'auto', 'l1': 'auto', 'momentum': 'auto', 'learning_rate': 'auto', 'beta_1': 'auto', 'beta_2': 'auto', 'bias_lr_mult': 'auto', 'bias_wd_mult': 'auto', 'use_lr_scheduler': 'true', 'lr_scheduler_step': 'auto', 'lr_scheduler_factor': 'auto', 'lr_scheduler_minimum_lr': 'auto', 'positive_example_weight_mult': '1.0', 'balance_multiclass_weights': 'false', 'normalize_data': 'true', 'normalize_label': 'auto', 'unbias_data': 'auto', 'unbias_label': 'auto', 'num_point_for_scaler': '10000', '_kvstore': 'auto', '_num_gpus': 'auto', '_num_kv_servers': 'auto', '_log_level': 'info', '_tuning_objective_metric': '', 'early_stopping_patience': '3', 'early_stopping_tolerance': '0.001', '_enable_profiler': 'false', 'predictor_type': 'multiclass_classifier'}\u001b[0m\n",
      "\u001b[34m/opt/amazon/lib/python3.8/site-packages/mxnet/model.py:97: SyntaxWarning: \"is\" with a literal. Did you mean \"==\"?\n",
      "  if num_device is 1 and 'dist' not in kvstore:\u001b[0m\n",
      "\u001b[34m/opt/amazon/lib/python3.8/site-packages/scipy/optimize/_shgo.py:495: SyntaxWarning: \"is\" with a literal. Did you mean \"==\"?\n",
      "  if cons['type'] is 'ineq':\u001b[0m\n",
      "\u001b[34m/opt/amazon/lib/python3.8/site-packages/scipy/optimize/_shgo.py:743: SyntaxWarning: \"is not\" with a literal. Did you mean \"!=\"?\n",
      "  if len(self.X_min) is not 0:\u001b[0m\n",
      "\u001b[34m[10/28/2024 22:34:48 WARNING 140031712307008] Loggers have already been setup.\u001b[0m\n",
      "\u001b[34m[10/28/2024 22:34:48 INFO 140031712307008] Final configuration: {'mini_batch_size': '200', 'epochs': '15', 'feature_dim': '14', 'use_bias': 'true', 'binary_classifier_model_selection_criteria': 'accuracy', 'f_beta': '1.0', 'target_recall': '0.8', 'target_precision': '0.8', 'num_models': 'auto', 'num_calibration_samples': '10000000', 'init_method': 'uniform', 'init_scale': '0.07', 'init_sigma': '0.01', 'init_bias': '0.0', 'optimizer': 'auto', 'loss': 'auto', 'margin': '1.0', 'quantile': '0.5', 'loss_insensitivity': '0.01', 'huber_delta': '1.0', 'num_classes': '5', 'accuracy_top_k': '3', 'wd': 'auto', 'l1': 'auto', 'momentum': 'auto', 'learning_rate': 'auto', 'beta_1': 'auto', 'beta_2': 'auto', 'bias_lr_mult': 'auto', 'bias_wd_mult': 'auto', 'use_lr_scheduler': 'true', 'lr_scheduler_step': 'auto', 'lr_scheduler_factor': 'auto', 'lr_scheduler_minimum_lr': 'auto', 'positive_example_weight_mult': '1.0', 'balance_multiclass_weights': 'false', 'normalize_data': 'true', 'normalize_label': 'auto', 'unbias_data': 'auto', 'unbias_label': 'auto', 'num_point_for_scaler': '10000', '_kvstore': 'auto', '_num_gpus': 'auto', '_num_kv_servers': 'auto', '_log_level': 'info', '_tuning_objective_metric': '', 'early_stopping_patience': '3', 'early_stopping_tolerance': '0.001', '_enable_profiler': 'false', 'predictor_type': 'multiclass_classifier'}\u001b[0m\n",
      "\u001b[34m[10/28/2024 22:34:48 WARNING 140031712307008] Loggers have already been setup.\u001b[0m\n",
      "\u001b[34mProcess 7 is a worker.\u001b[0m\n",
      "\u001b[34m[10/28/2024 22:34:48 INFO 140031712307008] Using default worker.\u001b[0m\n",
      "\u001b[34m[10/28/2024 22:34:48 INFO 140031712307008] Checkpoint loading and saving are disabled.\u001b[0m\n",
      "\u001b[34m[10/28/2024 22:34:48 ERROR 140031712307008] Customer Error: No iterator has been registered for ContentType ('csv', '1.0')\u001b[0m\n",
      "\n",
      "2024-10-28 22:35:02 Uploading - Uploading generated training model\n",
      "2024-10-28 22:35:02 Failed - Training job failed\n"
     ]
    },
    {
     "ename": "UnexpectedStatusException",
     "evalue": "Error for Training job tfc-job-linear-heart--2024-10-28-22-32-14-629: Failed. Reason: ClientError: No iterator has been registered for ContentType ('csv', '1.0'), exit code: 2",
     "output_type": "error",
     "traceback": [
      "\u001b[0;31m---------------------------------------------------------------------------\u001b[0m",
      "\u001b[0;31mUnexpectedStatusException\u001b[0m                 Traceback (most recent call last)",
      "Cell \u001b[0;32mIn[62], line 18\u001b[0m\n\u001b[1;32m     15\u001b[0m content_type \u001b[38;5;241m=\u001b[39m \u001b[38;5;124m\"\u001b[39m\u001b[38;5;124mtext/csv\u001b[39m\u001b[38;5;124m\"\u001b[39m\n\u001b[1;32m     17\u001b[0m \u001b[38;5;66;03m# execute the linear-learner training job\u001b[39;00m\n\u001b[0;32m---> 18\u001b[0m \u001b[43mestimator\u001b[49m\u001b[38;5;241;43m.\u001b[39;49m\u001b[43mfit\u001b[49m\u001b[43m(\u001b[49m\u001b[43m{\u001b[49m\u001b[38;5;124;43m'\u001b[39;49m\u001b[38;5;124;43mtrain\u001b[39;49m\u001b[38;5;124;43m'\u001b[39;49m\u001b[43m:\u001b[49m\u001b[43m \u001b[49m\u001b[43mtrain_input\u001b[49m\u001b[43m,\u001b[49m\u001b[43m \u001b[49m\u001b[38;5;124;43m'\u001b[39;49m\u001b[38;5;124;43mvalidation\u001b[39;49m\u001b[38;5;124;43m'\u001b[39;49m\u001b[43m:\u001b[49m\u001b[43m \u001b[49m\u001b[43mvalidation_input\u001b[49m\u001b[43m}\u001b[49m\u001b[43m)\u001b[49m\n",
      "File \u001b[0;32m/opt/conda/lib/python3.10/site-packages/sagemaker/workflow/pipeline_context.py:346\u001b[0m, in \u001b[0;36mrunnable_by_pipeline.<locals>.wrapper\u001b[0;34m(*args, **kwargs)\u001b[0m\n\u001b[1;32m    342\u001b[0m         \u001b[38;5;28;01mreturn\u001b[39;00m context\n\u001b[1;32m    344\u001b[0m     \u001b[38;5;28;01mreturn\u001b[39;00m _StepArguments(retrieve_caller_name(self_instance), run_func, \u001b[38;5;241m*\u001b[39margs, \u001b[38;5;241m*\u001b[39m\u001b[38;5;241m*\u001b[39mkwargs)\n\u001b[0;32m--> 346\u001b[0m \u001b[38;5;28;01mreturn\u001b[39;00m \u001b[43mrun_func\u001b[49m\u001b[43m(\u001b[49m\u001b[38;5;241;43m*\u001b[39;49m\u001b[43margs\u001b[49m\u001b[43m,\u001b[49m\u001b[43m \u001b[49m\u001b[38;5;241;43m*\u001b[39;49m\u001b[38;5;241;43m*\u001b[39;49m\u001b[43mkwargs\u001b[49m\u001b[43m)\u001b[49m\n",
      "File \u001b[0;32m/opt/conda/lib/python3.10/site-packages/sagemaker/estimator.py:1341\u001b[0m, in \u001b[0;36mEstimatorBase.fit\u001b[0;34m(self, inputs, wait, logs, job_name, experiment_config)\u001b[0m\n\u001b[1;32m   1339\u001b[0m \u001b[38;5;28mself\u001b[39m\u001b[38;5;241m.\u001b[39mjobs\u001b[38;5;241m.\u001b[39mappend(\u001b[38;5;28mself\u001b[39m\u001b[38;5;241m.\u001b[39mlatest_training_job)\n\u001b[1;32m   1340\u001b[0m \u001b[38;5;28;01mif\u001b[39;00m wait:\n\u001b[0;32m-> 1341\u001b[0m     \u001b[38;5;28;43mself\u001b[39;49m\u001b[38;5;241;43m.\u001b[39;49m\u001b[43mlatest_training_job\u001b[49m\u001b[38;5;241;43m.\u001b[39;49m\u001b[43mwait\u001b[49m\u001b[43m(\u001b[49m\u001b[43mlogs\u001b[49m\u001b[38;5;241;43m=\u001b[39;49m\u001b[43mlogs\u001b[49m\u001b[43m)\u001b[49m\n",
      "File \u001b[0;32m/opt/conda/lib/python3.10/site-packages/sagemaker/estimator.py:2680\u001b[0m, in \u001b[0;36m_TrainingJob.wait\u001b[0;34m(self, logs)\u001b[0m\n\u001b[1;32m   2678\u001b[0m \u001b[38;5;66;03m# If logs are requested, call logs_for_jobs.\u001b[39;00m\n\u001b[1;32m   2679\u001b[0m \u001b[38;5;28;01mif\u001b[39;00m logs \u001b[38;5;241m!=\u001b[39m \u001b[38;5;124m\"\u001b[39m\u001b[38;5;124mNone\u001b[39m\u001b[38;5;124m\"\u001b[39m:\n\u001b[0;32m-> 2680\u001b[0m     \u001b[38;5;28;43mself\u001b[39;49m\u001b[38;5;241;43m.\u001b[39;49m\u001b[43msagemaker_session\u001b[49m\u001b[38;5;241;43m.\u001b[39;49m\u001b[43mlogs_for_job\u001b[49m\u001b[43m(\u001b[49m\u001b[38;5;28;43mself\u001b[39;49m\u001b[38;5;241;43m.\u001b[39;49m\u001b[43mjob_name\u001b[49m\u001b[43m,\u001b[49m\u001b[43m \u001b[49m\u001b[43mwait\u001b[49m\u001b[38;5;241;43m=\u001b[39;49m\u001b[38;5;28;43;01mTrue\u001b[39;49;00m\u001b[43m,\u001b[49m\u001b[43m \u001b[49m\u001b[43mlog_type\u001b[49m\u001b[38;5;241;43m=\u001b[39;49m\u001b[43mlogs\u001b[49m\u001b[43m)\u001b[49m\n\u001b[1;32m   2681\u001b[0m \u001b[38;5;28;01melse\u001b[39;00m:\n\u001b[1;32m   2682\u001b[0m     \u001b[38;5;28mself\u001b[39m\u001b[38;5;241m.\u001b[39msagemaker_session\u001b[38;5;241m.\u001b[39mwait_for_job(\u001b[38;5;28mself\u001b[39m\u001b[38;5;241m.\u001b[39mjob_name)\n",
      "File \u001b[0;32m/opt/conda/lib/python3.10/site-packages/sagemaker/session.py:5760\u001b[0m, in \u001b[0;36mSession.logs_for_job\u001b[0;34m(self, job_name, wait, poll, log_type, timeout)\u001b[0m\n\u001b[1;32m   5739\u001b[0m \u001b[38;5;28;01mdef\u001b[39;00m \u001b[38;5;21mlogs_for_job\u001b[39m(\u001b[38;5;28mself\u001b[39m, job_name, wait\u001b[38;5;241m=\u001b[39m\u001b[38;5;28;01mFalse\u001b[39;00m, poll\u001b[38;5;241m=\u001b[39m\u001b[38;5;241m10\u001b[39m, log_type\u001b[38;5;241m=\u001b[39m\u001b[38;5;124m\"\u001b[39m\u001b[38;5;124mAll\u001b[39m\u001b[38;5;124m\"\u001b[39m, timeout\u001b[38;5;241m=\u001b[39m\u001b[38;5;28;01mNone\u001b[39;00m):\n\u001b[1;32m   5740\u001b[0m \u001b[38;5;250m    \u001b[39m\u001b[38;5;124;03m\"\"\"Display logs for a given training job, optionally tailing them until job is complete.\u001b[39;00m\n\u001b[1;32m   5741\u001b[0m \n\u001b[1;32m   5742\u001b[0m \u001b[38;5;124;03m    If the output is a tty or a Jupyter cell, it will be color-coded\u001b[39;00m\n\u001b[0;32m   (...)\u001b[0m\n\u001b[1;32m   5758\u001b[0m \u001b[38;5;124;03m        exceptions.UnexpectedStatusException: If waiting and the training job fails.\u001b[39;00m\n\u001b[1;32m   5759\u001b[0m \u001b[38;5;124;03m    \"\"\"\u001b[39;00m\n\u001b[0;32m-> 5760\u001b[0m     \u001b[43m_logs_for_job\u001b[49m\u001b[43m(\u001b[49m\u001b[38;5;28;43mself\u001b[39;49m\u001b[43m,\u001b[49m\u001b[43m \u001b[49m\u001b[43mjob_name\u001b[49m\u001b[43m,\u001b[49m\u001b[43m \u001b[49m\u001b[43mwait\u001b[49m\u001b[43m,\u001b[49m\u001b[43m \u001b[49m\u001b[43mpoll\u001b[49m\u001b[43m,\u001b[49m\u001b[43m \u001b[49m\u001b[43mlog_type\u001b[49m\u001b[43m,\u001b[49m\u001b[43m \u001b[49m\u001b[43mtimeout\u001b[49m\u001b[43m)\u001b[49m\n",
      "File \u001b[0;32m/opt/conda/lib/python3.10/site-packages/sagemaker/session.py:7989\u001b[0m, in \u001b[0;36m_logs_for_job\u001b[0;34m(sagemaker_session, job_name, wait, poll, log_type, timeout)\u001b[0m\n\u001b[1;32m   7986\u001b[0m             last_profiler_rule_statuses \u001b[38;5;241m=\u001b[39m profiler_rule_statuses\n\u001b[1;32m   7988\u001b[0m \u001b[38;5;28;01mif\u001b[39;00m wait:\n\u001b[0;32m-> 7989\u001b[0m     \u001b[43m_check_job_status\u001b[49m\u001b[43m(\u001b[49m\u001b[43mjob_name\u001b[49m\u001b[43m,\u001b[49m\u001b[43m \u001b[49m\u001b[43mdescription\u001b[49m\u001b[43m,\u001b[49m\u001b[43m \u001b[49m\u001b[38;5;124;43m\"\u001b[39;49m\u001b[38;5;124;43mTrainingJobStatus\u001b[39;49m\u001b[38;5;124;43m\"\u001b[39;49m\u001b[43m)\u001b[49m\n\u001b[1;32m   7990\u001b[0m     \u001b[38;5;28;01mif\u001b[39;00m dot:\n\u001b[1;32m   7991\u001b[0m         \u001b[38;5;28mprint\u001b[39m()\n",
      "File \u001b[0;32m/opt/conda/lib/python3.10/site-packages/sagemaker/session.py:8042\u001b[0m, in \u001b[0;36m_check_job_status\u001b[0;34m(job, desc, status_key_name)\u001b[0m\n\u001b[1;32m   8036\u001b[0m \u001b[38;5;28;01mif\u001b[39;00m \u001b[38;5;124m\"\u001b[39m\u001b[38;5;124mCapacityError\u001b[39m\u001b[38;5;124m\"\u001b[39m \u001b[38;5;129;01min\u001b[39;00m \u001b[38;5;28mstr\u001b[39m(reason):\n\u001b[1;32m   8037\u001b[0m     \u001b[38;5;28;01mraise\u001b[39;00m exceptions\u001b[38;5;241m.\u001b[39mCapacityError(\n\u001b[1;32m   8038\u001b[0m         message\u001b[38;5;241m=\u001b[39mmessage,\n\u001b[1;32m   8039\u001b[0m         allowed_statuses\u001b[38;5;241m=\u001b[39m[\u001b[38;5;124m\"\u001b[39m\u001b[38;5;124mCompleted\u001b[39m\u001b[38;5;124m\"\u001b[39m, \u001b[38;5;124m\"\u001b[39m\u001b[38;5;124mStopped\u001b[39m\u001b[38;5;124m\"\u001b[39m],\n\u001b[1;32m   8040\u001b[0m         actual_status\u001b[38;5;241m=\u001b[39mstatus,\n\u001b[1;32m   8041\u001b[0m     )\n\u001b[0;32m-> 8042\u001b[0m \u001b[38;5;28;01mraise\u001b[39;00m exceptions\u001b[38;5;241m.\u001b[39mUnexpectedStatusException(\n\u001b[1;32m   8043\u001b[0m     message\u001b[38;5;241m=\u001b[39mmessage,\n\u001b[1;32m   8044\u001b[0m     allowed_statuses\u001b[38;5;241m=\u001b[39m[\u001b[38;5;124m\"\u001b[39m\u001b[38;5;124mCompleted\u001b[39m\u001b[38;5;124m\"\u001b[39m, \u001b[38;5;124m\"\u001b[39m\u001b[38;5;124mStopped\u001b[39m\u001b[38;5;124m\"\u001b[39m],\n\u001b[1;32m   8045\u001b[0m     actual_status\u001b[38;5;241m=\u001b[39mstatus,\n\u001b[1;32m   8046\u001b[0m )\n",
      "\u001b[0;31mUnexpectedStatusException\u001b[0m: Error for Training job tfc-job-linear-heart--2024-10-28-22-32-14-629: Failed. Reason: ClientError: No iterator has been registered for ContentType ('csv', '1.0'), exit code: 2"
     ]
    }
   ],
   "source": [
    "# this line automatically looks for the linear-learner image URI\n",
    "linear_container = sagemaker.image_uris.retrieve(region=region, framework=\"linear-learner\")\n",
    "\n",
    "# construct a SageMaker estimator that calls the linear-learner \n",
    "estimator = sagemaker.estimator.Estimator(image_uri=linear_container, \n",
    "                                          hyperparameters=hyperparameters,\n",
    "                                          base_job_name='tfc-job-linear-heart-',\n",
    "                                          role=sagemaker.get_execution_role(),\n",
    "                                          instance_count=1, \n",
    "                                          instance_type='ml.m5.2xlarge', \n",
    "                                          volume_size=5, # 5 GB \n",
    "                                          output_path=output_path)\n",
    "\n",
    "# define the content type\n",
    "content_type = \"text/csv\"\n",
    "\n",
    "# execute the linear-learner training job\n",
    "estimator.fit({'train': train_input, 'validation': validation_input})"
   ]
  },
  {
   "cell_type": "code",
   "execution_count": null,
   "id": "5a268f3c-3a3e-45e2-bcb2-2e3d796837f0",
   "metadata": {},
   "outputs": [],
   "source": []
  }
 ],
 "metadata": {
  "availableInstances": [
   {
    "_defaultOrder": 0,
    "_isFastLaunch": true,
    "category": "General purpose",
    "gpuNum": 0,
    "hideHardwareSpecs": false,
    "memoryGiB": 4,
    "name": "ml.t3.medium",
    "vcpuNum": 2
   },
   {
    "_defaultOrder": 1,
    "_isFastLaunch": false,
    "category": "General purpose",
    "gpuNum": 0,
    "hideHardwareSpecs": false,
    "memoryGiB": 8,
    "name": "ml.t3.large",
    "vcpuNum": 2
   },
   {
    "_defaultOrder": 2,
    "_isFastLaunch": false,
    "category": "General purpose",
    "gpuNum": 0,
    "hideHardwareSpecs": false,
    "memoryGiB": 16,
    "name": "ml.t3.xlarge",
    "vcpuNum": 4
   },
   {
    "_defaultOrder": 3,
    "_isFastLaunch": false,
    "category": "General purpose",
    "gpuNum": 0,
    "hideHardwareSpecs": false,
    "memoryGiB": 32,
    "name": "ml.t3.2xlarge",
    "vcpuNum": 8
   },
   {
    "_defaultOrder": 4,
    "_isFastLaunch": true,
    "category": "General purpose",
    "gpuNum": 0,
    "hideHardwareSpecs": false,
    "memoryGiB": 8,
    "name": "ml.m5.large",
    "vcpuNum": 2
   },
   {
    "_defaultOrder": 5,
    "_isFastLaunch": false,
    "category": "General purpose",
    "gpuNum": 0,
    "hideHardwareSpecs": false,
    "memoryGiB": 16,
    "name": "ml.m5.xlarge",
    "vcpuNum": 4
   },
   {
    "_defaultOrder": 6,
    "_isFastLaunch": false,
    "category": "General purpose",
    "gpuNum": 0,
    "hideHardwareSpecs": false,
    "memoryGiB": 32,
    "name": "ml.m5.2xlarge",
    "vcpuNum": 8
   },
   {
    "_defaultOrder": 7,
    "_isFastLaunch": false,
    "category": "General purpose",
    "gpuNum": 0,
    "hideHardwareSpecs": false,
    "memoryGiB": 64,
    "name": "ml.m5.4xlarge",
    "vcpuNum": 16
   },
   {
    "_defaultOrder": 8,
    "_isFastLaunch": false,
    "category": "General purpose",
    "gpuNum": 0,
    "hideHardwareSpecs": false,
    "memoryGiB": 128,
    "name": "ml.m5.8xlarge",
    "vcpuNum": 32
   },
   {
    "_defaultOrder": 9,
    "_isFastLaunch": false,
    "category": "General purpose",
    "gpuNum": 0,
    "hideHardwareSpecs": false,
    "memoryGiB": 192,
    "name": "ml.m5.12xlarge",
    "vcpuNum": 48
   },
   {
    "_defaultOrder": 10,
    "_isFastLaunch": false,
    "category": "General purpose",
    "gpuNum": 0,
    "hideHardwareSpecs": false,
    "memoryGiB": 256,
    "name": "ml.m5.16xlarge",
    "vcpuNum": 64
   },
   {
    "_defaultOrder": 11,
    "_isFastLaunch": false,
    "category": "General purpose",
    "gpuNum": 0,
    "hideHardwareSpecs": false,
    "memoryGiB": 384,
    "name": "ml.m5.24xlarge",
    "vcpuNum": 96
   },
   {
    "_defaultOrder": 12,
    "_isFastLaunch": false,
    "category": "General purpose",
    "gpuNum": 0,
    "hideHardwareSpecs": false,
    "memoryGiB": 8,
    "name": "ml.m5d.large",
    "vcpuNum": 2
   },
   {
    "_defaultOrder": 13,
    "_isFastLaunch": false,
    "category": "General purpose",
    "gpuNum": 0,
    "hideHardwareSpecs": false,
    "memoryGiB": 16,
    "name": "ml.m5d.xlarge",
    "vcpuNum": 4
   },
   {
    "_defaultOrder": 14,
    "_isFastLaunch": false,
    "category": "General purpose",
    "gpuNum": 0,
    "hideHardwareSpecs": false,
    "memoryGiB": 32,
    "name": "ml.m5d.2xlarge",
    "vcpuNum": 8
   },
   {
    "_defaultOrder": 15,
    "_isFastLaunch": false,
    "category": "General purpose",
    "gpuNum": 0,
    "hideHardwareSpecs": false,
    "memoryGiB": 64,
    "name": "ml.m5d.4xlarge",
    "vcpuNum": 16
   },
   {
    "_defaultOrder": 16,
    "_isFastLaunch": false,
    "category": "General purpose",
    "gpuNum": 0,
    "hideHardwareSpecs": false,
    "memoryGiB": 128,
    "name": "ml.m5d.8xlarge",
    "vcpuNum": 32
   },
   {
    "_defaultOrder": 17,
    "_isFastLaunch": false,
    "category": "General purpose",
    "gpuNum": 0,
    "hideHardwareSpecs": false,
    "memoryGiB": 192,
    "name": "ml.m5d.12xlarge",
    "vcpuNum": 48
   },
   {
    "_defaultOrder": 18,
    "_isFastLaunch": false,
    "category": "General purpose",
    "gpuNum": 0,
    "hideHardwareSpecs": false,
    "memoryGiB": 256,
    "name": "ml.m5d.16xlarge",
    "vcpuNum": 64
   },
   {
    "_defaultOrder": 19,
    "_isFastLaunch": false,
    "category": "General purpose",
    "gpuNum": 0,
    "hideHardwareSpecs": false,
    "memoryGiB": 384,
    "name": "ml.m5d.24xlarge",
    "vcpuNum": 96
   },
   {
    "_defaultOrder": 20,
    "_isFastLaunch": false,
    "category": "General purpose",
    "gpuNum": 0,
    "hideHardwareSpecs": true,
    "memoryGiB": 0,
    "name": "ml.geospatial.interactive",
    "supportedImageNames": [
     "sagemaker-geospatial-v1-0"
    ],
    "vcpuNum": 0
   },
   {
    "_defaultOrder": 21,
    "_isFastLaunch": true,
    "category": "Compute optimized",
    "gpuNum": 0,
    "hideHardwareSpecs": false,
    "memoryGiB": 4,
    "name": "ml.c5.large",
    "vcpuNum": 2
   },
   {
    "_defaultOrder": 22,
    "_isFastLaunch": false,
    "category": "Compute optimized",
    "gpuNum": 0,
    "hideHardwareSpecs": false,
    "memoryGiB": 8,
    "name": "ml.c5.xlarge",
    "vcpuNum": 4
   },
   {
    "_defaultOrder": 23,
    "_isFastLaunch": false,
    "category": "Compute optimized",
    "gpuNum": 0,
    "hideHardwareSpecs": false,
    "memoryGiB": 16,
    "name": "ml.c5.2xlarge",
    "vcpuNum": 8
   },
   {
    "_defaultOrder": 24,
    "_isFastLaunch": false,
    "category": "Compute optimized",
    "gpuNum": 0,
    "hideHardwareSpecs": false,
    "memoryGiB": 32,
    "name": "ml.c5.4xlarge",
    "vcpuNum": 16
   },
   {
    "_defaultOrder": 25,
    "_isFastLaunch": false,
    "category": "Compute optimized",
    "gpuNum": 0,
    "hideHardwareSpecs": false,
    "memoryGiB": 72,
    "name": "ml.c5.9xlarge",
    "vcpuNum": 36
   },
   {
    "_defaultOrder": 26,
    "_isFastLaunch": false,
    "category": "Compute optimized",
    "gpuNum": 0,
    "hideHardwareSpecs": false,
    "memoryGiB": 96,
    "name": "ml.c5.12xlarge",
    "vcpuNum": 48
   },
   {
    "_defaultOrder": 27,
    "_isFastLaunch": false,
    "category": "Compute optimized",
    "gpuNum": 0,
    "hideHardwareSpecs": false,
    "memoryGiB": 144,
    "name": "ml.c5.18xlarge",
    "vcpuNum": 72
   },
   {
    "_defaultOrder": 28,
    "_isFastLaunch": false,
    "category": "Compute optimized",
    "gpuNum": 0,
    "hideHardwareSpecs": false,
    "memoryGiB": 192,
    "name": "ml.c5.24xlarge",
    "vcpuNum": 96
   },
   {
    "_defaultOrder": 29,
    "_isFastLaunch": true,
    "category": "Accelerated computing",
    "gpuNum": 1,
    "hideHardwareSpecs": false,
    "memoryGiB": 16,
    "name": "ml.g4dn.xlarge",
    "vcpuNum": 4
   },
   {
    "_defaultOrder": 30,
    "_isFastLaunch": false,
    "category": "Accelerated computing",
    "gpuNum": 1,
    "hideHardwareSpecs": false,
    "memoryGiB": 32,
    "name": "ml.g4dn.2xlarge",
    "vcpuNum": 8
   },
   {
    "_defaultOrder": 31,
    "_isFastLaunch": false,
    "category": "Accelerated computing",
    "gpuNum": 1,
    "hideHardwareSpecs": false,
    "memoryGiB": 64,
    "name": "ml.g4dn.4xlarge",
    "vcpuNum": 16
   },
   {
    "_defaultOrder": 32,
    "_isFastLaunch": false,
    "category": "Accelerated computing",
    "gpuNum": 1,
    "hideHardwareSpecs": false,
    "memoryGiB": 128,
    "name": "ml.g4dn.8xlarge",
    "vcpuNum": 32
   },
   {
    "_defaultOrder": 33,
    "_isFastLaunch": false,
    "category": "Accelerated computing",
    "gpuNum": 4,
    "hideHardwareSpecs": false,
    "memoryGiB": 192,
    "name": "ml.g4dn.12xlarge",
    "vcpuNum": 48
   },
   {
    "_defaultOrder": 34,
    "_isFastLaunch": false,
    "category": "Accelerated computing",
    "gpuNum": 1,
    "hideHardwareSpecs": false,
    "memoryGiB": 256,
    "name": "ml.g4dn.16xlarge",
    "vcpuNum": 64
   },
   {
    "_defaultOrder": 35,
    "_isFastLaunch": false,
    "category": "Accelerated computing",
    "gpuNum": 1,
    "hideHardwareSpecs": false,
    "memoryGiB": 61,
    "name": "ml.p3.2xlarge",
    "vcpuNum": 8
   },
   {
    "_defaultOrder": 36,
    "_isFastLaunch": false,
    "category": "Accelerated computing",
    "gpuNum": 4,
    "hideHardwareSpecs": false,
    "memoryGiB": 244,
    "name": "ml.p3.8xlarge",
    "vcpuNum": 32
   },
   {
    "_defaultOrder": 37,
    "_isFastLaunch": false,
    "category": "Accelerated computing",
    "gpuNum": 8,
    "hideHardwareSpecs": false,
    "memoryGiB": 488,
    "name": "ml.p3.16xlarge",
    "vcpuNum": 64
   },
   {
    "_defaultOrder": 38,
    "_isFastLaunch": false,
    "category": "Accelerated computing",
    "gpuNum": 8,
    "hideHardwareSpecs": false,
    "memoryGiB": 768,
    "name": "ml.p3dn.24xlarge",
    "vcpuNum": 96
   },
   {
    "_defaultOrder": 39,
    "_isFastLaunch": false,
    "category": "Memory Optimized",
    "gpuNum": 0,
    "hideHardwareSpecs": false,
    "memoryGiB": 16,
    "name": "ml.r5.large",
    "vcpuNum": 2
   },
   {
    "_defaultOrder": 40,
    "_isFastLaunch": false,
    "category": "Memory Optimized",
    "gpuNum": 0,
    "hideHardwareSpecs": false,
    "memoryGiB": 32,
    "name": "ml.r5.xlarge",
    "vcpuNum": 4
   },
   {
    "_defaultOrder": 41,
    "_isFastLaunch": false,
    "category": "Memory Optimized",
    "gpuNum": 0,
    "hideHardwareSpecs": false,
    "memoryGiB": 64,
    "name": "ml.r5.2xlarge",
    "vcpuNum": 8
   },
   {
    "_defaultOrder": 42,
    "_isFastLaunch": false,
    "category": "Memory Optimized",
    "gpuNum": 0,
    "hideHardwareSpecs": false,
    "memoryGiB": 128,
    "name": "ml.r5.4xlarge",
    "vcpuNum": 16
   },
   {
    "_defaultOrder": 43,
    "_isFastLaunch": false,
    "category": "Memory Optimized",
    "gpuNum": 0,
    "hideHardwareSpecs": false,
    "memoryGiB": 256,
    "name": "ml.r5.8xlarge",
    "vcpuNum": 32
   },
   {
    "_defaultOrder": 44,
    "_isFastLaunch": false,
    "category": "Memory Optimized",
    "gpuNum": 0,
    "hideHardwareSpecs": false,
    "memoryGiB": 384,
    "name": "ml.r5.12xlarge",
    "vcpuNum": 48
   },
   {
    "_defaultOrder": 45,
    "_isFastLaunch": false,
    "category": "Memory Optimized",
    "gpuNum": 0,
    "hideHardwareSpecs": false,
    "memoryGiB": 512,
    "name": "ml.r5.16xlarge",
    "vcpuNum": 64
   },
   {
    "_defaultOrder": 46,
    "_isFastLaunch": false,
    "category": "Memory Optimized",
    "gpuNum": 0,
    "hideHardwareSpecs": false,
    "memoryGiB": 768,
    "name": "ml.r5.24xlarge",
    "vcpuNum": 96
   },
   {
    "_defaultOrder": 47,
    "_isFastLaunch": false,
    "category": "Accelerated computing",
    "gpuNum": 1,
    "hideHardwareSpecs": false,
    "memoryGiB": 16,
    "name": "ml.g5.xlarge",
    "vcpuNum": 4
   },
   {
    "_defaultOrder": 48,
    "_isFastLaunch": false,
    "category": "Accelerated computing",
    "gpuNum": 1,
    "hideHardwareSpecs": false,
    "memoryGiB": 32,
    "name": "ml.g5.2xlarge",
    "vcpuNum": 8
   },
   {
    "_defaultOrder": 49,
    "_isFastLaunch": false,
    "category": "Accelerated computing",
    "gpuNum": 1,
    "hideHardwareSpecs": false,
    "memoryGiB": 64,
    "name": "ml.g5.4xlarge",
    "vcpuNum": 16
   },
   {
    "_defaultOrder": 50,
    "_isFastLaunch": false,
    "category": "Accelerated computing",
    "gpuNum": 1,
    "hideHardwareSpecs": false,
    "memoryGiB": 128,
    "name": "ml.g5.8xlarge",
    "vcpuNum": 32
   },
   {
    "_defaultOrder": 51,
    "_isFastLaunch": false,
    "category": "Accelerated computing",
    "gpuNum": 1,
    "hideHardwareSpecs": false,
    "memoryGiB": 256,
    "name": "ml.g5.16xlarge",
    "vcpuNum": 64
   },
   {
    "_defaultOrder": 52,
    "_isFastLaunch": false,
    "category": "Accelerated computing",
    "gpuNum": 4,
    "hideHardwareSpecs": false,
    "memoryGiB": 192,
    "name": "ml.g5.12xlarge",
    "vcpuNum": 48
   },
   {
    "_defaultOrder": 53,
    "_isFastLaunch": false,
    "category": "Accelerated computing",
    "gpuNum": 4,
    "hideHardwareSpecs": false,
    "memoryGiB": 384,
    "name": "ml.g5.24xlarge",
    "vcpuNum": 96
   },
   {
    "_defaultOrder": 54,
    "_isFastLaunch": false,
    "category": "Accelerated computing",
    "gpuNum": 8,
    "hideHardwareSpecs": false,
    "memoryGiB": 768,
    "name": "ml.g5.48xlarge",
    "vcpuNum": 192
   },
   {
    "_defaultOrder": 55,
    "_isFastLaunch": false,
    "category": "Accelerated computing",
    "gpuNum": 8,
    "hideHardwareSpecs": false,
    "memoryGiB": 1152,
    "name": "ml.p4d.24xlarge",
    "vcpuNum": 96
   },
   {
    "_defaultOrder": 56,
    "_isFastLaunch": false,
    "category": "Accelerated computing",
    "gpuNum": 8,
    "hideHardwareSpecs": false,
    "memoryGiB": 1152,
    "name": "ml.p4de.24xlarge",
    "vcpuNum": 96
   },
   {
    "_defaultOrder": 57,
    "_isFastLaunch": false,
    "category": "Accelerated computing",
    "gpuNum": 0,
    "hideHardwareSpecs": false,
    "memoryGiB": 32,
    "name": "ml.trn1.2xlarge",
    "vcpuNum": 8
   },
   {
    "_defaultOrder": 58,
    "_isFastLaunch": false,
    "category": "Accelerated computing",
    "gpuNum": 0,
    "hideHardwareSpecs": false,
    "memoryGiB": 512,
    "name": "ml.trn1.32xlarge",
    "vcpuNum": 128
   },
   {
    "_defaultOrder": 59,
    "_isFastLaunch": false,
    "category": "Accelerated computing",
    "gpuNum": 0,
    "hideHardwareSpecs": false,
    "memoryGiB": 512,
    "name": "ml.trn1n.32xlarge",
    "vcpuNum": 128
   }
  ],
  "instance_type": "ml.t3.medium",
  "kernelspec": {
   "display_name": "Python 3 (Data Science 3.0)",
   "language": "python",
   "name": "python3__SAGEMAKER_INTERNAL__arn:aws:sagemaker:us-east-1:081325390199:image/sagemaker-data-science-310-v1"
  },
  "language_info": {
   "codemirror_mode": {
    "name": "ipython",
    "version": 3
   },
   "file_extension": ".py",
   "mimetype": "text/x-python",
   "name": "python",
   "nbconvert_exporter": "python",
   "pygments_lexer": "ipython3",
   "version": "3.10.6"
  }
 },
 "nbformat": 4,
 "nbformat_minor": 5
}
